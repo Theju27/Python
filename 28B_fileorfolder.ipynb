{
 "cells": [
  {
   "cell_type": "code",
   "execution_count": 5,
   "id": "644188d1",
   "metadata": {},
   "outputs": [
    {
     "name": "stdout",
     "output_type": "stream",
     "text": [
      "Please enter the path:C:\\Users\\Theju\\Desktop\\resources\\python\\Untitled Folder\\Untitled Folder\\test.docx\n",
      "You entered: C:\\Users\\Theju\\Desktop\\resources\\python\\Untitled Folder\\Untitled Folder\\test.docx\n",
      "You entered is a file!!\n"
     ]
    }
   ],
   "source": [
    "import os\n",
    "path = input(\"Please enter the path:\")\n",
    "print(\"You entered: \"+path)\n",
    "if os.path.isfile(path):\n",
    "    print(\"You entered is a file!!\")\n",
    "elif os.path.isdir(path):\n",
    "    print(\"You entered a folder!!\")\n"
   ]
  },
  {
   "cell_type": "code",
   "execution_count": null,
   "id": "23900fa3",
   "metadata": {},
   "outputs": [],
   "source": []
  },
  {
   "cell_type": "code",
   "execution_count": null,
   "id": "97550a05",
   "metadata": {},
   "outputs": [],
   "source": []
  }
 ],
 "metadata": {
  "kernelspec": {
   "display_name": "Python 3 (ipykernel)",
   "language": "python",
   "name": "python3"
  },
  "language_info": {
   "codemirror_mode": {
    "name": "ipython",
    "version": 3
   },
   "file_extension": ".py",
   "mimetype": "text/x-python",
   "name": "python",
   "nbconvert_exporter": "python",
   "pygments_lexer": "ipython3",
   "version": "3.11.7"
  }
 },
 "nbformat": 4,
 "nbformat_minor": 5
}
