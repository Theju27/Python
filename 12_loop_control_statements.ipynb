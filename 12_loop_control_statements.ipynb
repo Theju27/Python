{
 "cells": [
  {
   "cell_type": "code",
   "execution_count": 2,
   "id": "3caf2ecb",
   "metadata": {},
   "outputs": [
    {
     "name": "stdout",
     "output_type": "stream",
     "text": [
      "1234567890"
     ]
    }
   ],
   "source": [
    "#Continue skips the current iteration\n",
    "phone_no=\"123-456-7890\"\n",
    "for i in phone_no:\n",
    "    if(i==\"-\"):\n",
    "        continue\n",
    "    else:\n",
    "        print(i,end=\"\")\n",
    "\n",
    "        "
   ]
  },
  {
   "cell_type": "code",
   "execution_count": 13,
   "id": "48c5aee3",
   "metadata": {},
   "outputs": [
    {
     "name": "stdout",
     "output_type": "stream",
     "text": [
      "Enter your name:1234\n"
     ]
    }
   ],
   "source": [
    "#Break: Terminate the loop\n",
    "while True:\n",
    "    name = input(\"Enter your name:\")\n",
    "    if name!= \" \":\n",
    "        break\n",
    "    else:\n",
    "        print(\"Your name is:\" +name)"
   ]
  },
  {
   "cell_type": "code",
   "execution_count": 4,
   "id": "a71ecae3",
   "metadata": {},
   "outputs": [
    {
     "name": "stdout",
     "output_type": "stream",
     "text": [
      "1\n",
      "2\n",
      "3\n",
      "4\n",
      "5\n",
      "6\n",
      "7\n",
      "8\n",
      "9\n",
      "10\n",
      "11\n",
      "12\n",
      "14\n",
      "15\n",
      "16\n",
      "17\n",
      "18\n",
      "19\n",
      "20\n"
     ]
    }
   ],
   "source": [
    "#Pass:Does nothing,Acts as a place holder \n",
    "phone_no=\"123-456-7890\"\n",
    "for i in range(1,21):\n",
    "    if(i==13):\n",
    "        pass\n",
    "    else:\n",
    "        print(i)"
   ]
  },
  {
   "cell_type": "code",
   "execution_count": null,
   "id": "5a063b8d",
   "metadata": {},
   "outputs": [],
   "source": []
  }
 ],
 "metadata": {
  "kernelspec": {
   "display_name": "Python 3 (ipykernel)",
   "language": "python",
   "name": "python3"
  },
  "language_info": {
   "codemirror_mode": {
    "name": "ipython",
    "version": 3
   },
   "file_extension": ".py",
   "mimetype": "text/x-python",
   "name": "python",
   "nbconvert_exporter": "python",
   "pygments_lexer": "ipython3",
   "version": "3.11.7"
  }
 },
 "nbformat": 4,
 "nbformat_minor": 5
}
