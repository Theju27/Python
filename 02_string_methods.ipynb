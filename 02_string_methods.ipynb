{
 "cells": [
  {
   "cell_type": "code",
   "execution_count": 1,
   "id": "e4ff1aa9",
   "metadata": {},
   "outputs": [
    {
     "name": "stdout",
     "output_type": "stream",
     "text": [
      "8\n"
     ]
    }
   ],
   "source": [
    "name = \"Bro Code\"\n",
    "print(len(name))    #Gives the length of the string name"
   ]
  },
  {
   "cell_type": "code",
   "execution_count": 2,
   "id": "a470ac67",
   "metadata": {},
   "outputs": [
    {
     "name": "stdout",
     "output_type": "stream",
     "text": [
      "0\n"
     ]
    }
   ],
   "source": [
    "print(name.find(\"B\")) #Gives the index of the letter B in the string Bro Code"
   ]
  },
  {
   "cell_type": "code",
   "execution_count": 3,
   "id": "45c19e14",
   "metadata": {},
   "outputs": [
    {
     "name": "stdout",
     "output_type": "stream",
     "text": [
      "Brocode\n"
     ]
    }
   ],
   "source": [
    "name =  \"brocode\"\n",
    "print(name.capitalize()) #Capitalizes the first letter of the word"
   ]
  },
  {
   "cell_type": "code",
   "execution_count": 4,
   "id": "dc3b4935",
   "metadata": {},
   "outputs": [
    {
     "name": "stdout",
     "output_type": "stream",
     "text": [
      "BROCODE\n"
     ]
    }
   ],
   "source": [
    "print(name.upper()) #Capitalizes the Entire word"
   ]
  },
  {
   "cell_type": "code",
   "execution_count": 5,
   "id": "babb84dc",
   "metadata": {},
   "outputs": [
    {
     "name": "stdout",
     "output_type": "stream",
     "text": [
      "brocode\n"
     ]
    }
   ],
   "source": [
    "name = \"BROCODE\"\n",
    "print(name.lower())  #Converts to lower case"
   ]
  },
  {
   "cell_type": "code",
   "execution_count": 8,
   "id": "9e8c0599",
   "metadata": {},
   "outputs": [
    {
     "name": "stdout",
     "output_type": "stream",
     "text": [
      "False\n"
     ]
    }
   ],
   "source": [
    "# Checks whether it is a digit\n",
    "print(name.isdigit()) "
   ]
  },
  {
   "cell_type": "code",
   "execution_count": 9,
   "id": "4ea054a8",
   "metadata": {},
   "outputs": [
    {
     "name": "stdout",
     "output_type": "stream",
     "text": [
      "True\n"
     ]
    }
   ],
   "source": [
    "print(name.isalpha()) #Check whether it has all the alphabets"
   ]
  },
  {
   "cell_type": "code",
   "execution_count": 11,
   "id": "fef1de8f",
   "metadata": {},
   "outputs": [
    {
     "name": "stdout",
     "output_type": "stream",
     "text": [
      "2\n"
     ]
    }
   ],
   "source": [
    "print(name.count(\"O\")) #Gives the no.of occurences and it is case sensitive"
   ]
  },
  {
   "cell_type": "code",
   "execution_count": null,
   "id": "83aa5b93",
   "metadata": {},
   "outputs": [],
   "source": []
  }
 ],
 "metadata": {
  "kernelspec": {
   "display_name": "Python 3 (ipykernel)",
   "language": "python",
   "name": "python3"
  },
  "language_info": {
   "codemirror_mode": {
    "name": "ipython",
    "version": 3
   },
   "file_extension": ".py",
   "mimetype": "text/x-python",
   "name": "python",
   "nbconvert_exporter": "python",
   "pygments_lexer": "ipython3",
   "version": "3.11.7"
  }
 },
 "nbformat": 4,
 "nbformat_minor": 5
}
