{
 "cells": [
  {
   "cell_type": "code",
   "execution_count": 3,
   "id": "1d5c673a",
   "metadata": {},
   "outputs": [
    {
     "name": "stdout",
     "output_type": "stream",
     "text": [
      "File not found:\n"
     ]
    }
   ],
   "source": [
    "#Delete a file\n",
    "import os\n",
    "import shutil\n",
    "path = \"C:\\\\Users\\\\Theju\\\\Desktop\\\\resources\\\\python\\\\Untitled Folder\\\\Untitled Folder\\\\test3.docx\"\n",
    "try:\n",
    "    os.remove(path)      #Delete a file\n",
    "except FileNotFoundError:\n",
    "    print(\"File not found:\")\n",
    "except PermissionError:\n",
    "    print(\"You don't have permission to delete that\")\n",
    "except oserror:\n",
    "    print(\"You cannot delete that using function\")\n",
    "else:\n",
    "    print(path+ \"was deleted\")"
   ]
  },
  {
   "cell_type": "code",
   "execution_count": null,
   "id": "cf5b11c8",
   "metadata": {},
   "outputs": [],
   "source": [
    "#Delete a directory\n",
    "import os\n",
    "import shutil\n",
    "path = \"C:\\\\Users\\\\Theju\\\\Desktop\\\\resources\\\\python\\\\Untitled Folder\\\\Untitled Folder\\\\test3.docx\"\n",
    "try:\n",
    "    os.rmdir(path)       # Delete a directory\n",
    "except FileNotFoundError:\n",
    "    print(\"File not found:\")\n",
    "except PermissionError:\n",
    "    print(\"You don't have permission to delete that\")\n",
    "except oserror:\n",
    "    print(\"You cannot delete that using function\")\n",
    "else:\n",
    "    print(path+ \"was deleted\")"
   ]
  },
  {
   "cell_type": "code",
   "execution_count": null,
   "id": "49951e7c",
   "metadata": {},
   "outputs": [],
   "source": [
    "# Delete a directory containing files\n",
    "import os\n",
    "import shutil\n",
    "path = \"C:\\\\Users\\\\Theju\\\\Desktop\\\\resources\\\\python\\\\Untitled Folder\\\\Untitled Folder\\\\test3.docx\"\n",
    "try:\n",
    "    shutil.rmtree(path)  # Delete a directory containing files\n",
    "except FileNotFoundError:\n",
    "    print(\"File not found:\")\n",
    "except PermissionError:\n",
    "    print(\"You don't have permission to delete that\")\n",
    "except oserror:\n",
    "    print(\"You cannot delete that using function\")\n",
    "else:\n",
    "    print(path+ \"was deleted\")"
   ]
  }
 ],
 "metadata": {
  "kernelspec": {
   "display_name": "Python 3 (ipykernel)",
   "language": "python",
   "name": "python3"
  },
  "language_info": {
   "codemirror_mode": {
    "name": "ipython",
    "version": 3
   },
   "file_extension": ".py",
   "mimetype": "text/x-python",
   "name": "python",
   "nbconvert_exporter": "python",
   "pygments_lexer": "ipython3",
   "version": "3.11.7"
  }
 },
 "nbformat": 4,
 "nbformat_minor": 5
}
