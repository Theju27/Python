{
 "cells": [
  {
   "cell_type": "code",
   "execution_count": 1,
   "id": "9ec6f971",
   "metadata": {},
   "outputs": [],
   "source": [
    "#Index_Operator[]=It gives access to a sequence's element(str,list,tuple)"
   ]
  },
  {
   "cell_type": "code",
   "execution_count": 2,
   "id": "b9a18381",
   "metadata": {},
   "outputs": [],
   "source": [
    "name = \"bro code!\""
   ]
  },
  {
   "cell_type": "code",
   "execution_count": 3,
   "id": "9ef5481d",
   "metadata": {},
   "outputs": [
    {
     "name": "stdout",
     "output_type": "stream",
     "text": [
      "Bro code!\n"
     ]
    }
   ],
   "source": [
    "if(name[0].islower()):\n",
    "    name=name.capitalize()\n",
    "    print(name)"
   ]
  },
  {
   "cell_type": "code",
   "execution_count": 4,
   "id": "89e1809b",
   "metadata": {},
   "outputs": [
    {
     "name": "stdout",
     "output_type": "stream",
     "text": [
      "BRO\n"
     ]
    }
   ],
   "source": [
    "first_name=name[0:3].upper()\n",
    "print(first_name)"
   ]
  },
  {
   "cell_type": "code",
   "execution_count": 5,
   "id": "71a3030f",
   "metadata": {},
   "outputs": [
    {
     "name": "stdout",
     "output_type": "stream",
     "text": [
      "code!\n"
     ]
    }
   ],
   "source": [
    "last_name=name[4:].lower()\n",
    "print(last_name)"
   ]
  },
  {
   "cell_type": "code",
   "execution_count": 6,
   "id": "46af1f93",
   "metadata": {},
   "outputs": [
    {
     "name": "stdout",
     "output_type": "stream",
     "text": [
      "!\n"
     ]
    }
   ],
   "source": [
    "last_character=name[-1]\n",
    "print(last_character)"
   ]
  },
  {
   "cell_type": "code",
   "execution_count": null,
   "id": "61d42e9d",
   "metadata": {},
   "outputs": [],
   "source": []
  }
 ],
 "metadata": {
  "kernelspec": {
   "display_name": "Python 3 (ipykernel)",
   "language": "python",
   "name": "python3"
  },
  "language_info": {
   "codemirror_mode": {
    "name": "ipython",
    "version": 3
   },
   "file_extension": ".py",
   "mimetype": "text/x-python",
   "name": "python",
   "nbconvert_exporter": "python",
   "pygments_lexer": "ipython3",
   "version": "3.11.7"
  }
 },
 "nbformat": 4,
 "nbformat_minor": 5
}
