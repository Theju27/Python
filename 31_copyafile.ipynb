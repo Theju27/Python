{
 "cells": [
  {
   "cell_type": "code",
   "execution_count": 1,
   "id": "0e2b8297",
   "metadata": {},
   "outputs": [],
   "source": [
    "#Copying files in python\n",
    "#copyfile() = copies contents of a file\n",
    "#copy() = copyfile() + Permission Mode + Destination can be directory\n",
    "#copy2() = copy() + copies metadata(file's creation and modification times as well)"
   ]
  },
  {
   "cell_type": "code",
   "execution_count": 4,
   "id": "bbfbb04c",
   "metadata": {},
   "outputs": [],
   "source": [
    "import os\n",
    "def touch(path):\n",
    "    with open(path, 'a'):\n",
    "        os.utime(path, None)"
   ]
  },
  {
   "cell_type": "code",
   "execution_count": 6,
   "id": "c8cc38ac",
   "metadata": {},
   "outputs": [
    {
     "data": {
      "text/plain": [
       "'C:\\\\Users\\\\Theju\\\\Desktop\\\\resources\\\\python\\\\Untitled Folder\\\\Untitled Folder\\\\test1.docx'"
      ]
     },
     "execution_count": 6,
     "metadata": {},
     "output_type": "execute_result"
    }
   ],
   "source": [
    "import shutil\n",
    "shutil.copyfile(\"C:\\\\Users\\\\Theju\\\\Desktop\\\\resources\\\\python\\\\Untitled Folder\\\\Untitled Folder\\\\test.docx\",\"C:\\\\Users\\\\Theju\\\\Desktop\\\\resources\\\\python\\\\Untitled Folder\\\\Untitled Folder\\\\test1.docx\")\n",
    "    "
   ]
  },
  {
   "cell_type": "code",
   "execution_count": 7,
   "id": "cd81f2d2",
   "metadata": {},
   "outputs": [
    {
     "data": {
      "text/plain": [
       "'C:\\\\Users\\\\Theju\\\\Desktop\\\\resources\\\\python\\\\Untitled Folder\\\\Untitled Folder\\\\test2.docx'"
      ]
     },
     "execution_count": 7,
     "metadata": {},
     "output_type": "execute_result"
    }
   ],
   "source": [
    "import shutil\n",
    "shutil.copyfile(\"C:\\\\Users\\\\Theju\\\\Desktop\\\\resources\\\\python\\\\Untitled Folder\\\\Untitled Folder\\\\test.docx\",\"C:\\\\Users\\\\Theju\\\\Desktop\\\\resources\\\\python\\\\Untitled Folder\\\\Untitled Folder\\\\test2.docx\")\n",
    "    "
   ]
  },
  {
   "cell_type": "code",
   "execution_count": 8,
   "id": "6ed8f527",
   "metadata": {},
   "outputs": [
    {
     "data": {
      "text/plain": [
       "'C:\\\\Users\\\\Theju\\\\Desktop\\\\resources\\\\python\\\\Untitled Folder\\\\Untitled Folder\\\\test3.docx'"
      ]
     },
     "execution_count": 8,
     "metadata": {},
     "output_type": "execute_result"
    }
   ],
   "source": [
    "import shutil\n",
    "shutil.copyfile(\"C:\\\\Users\\\\Theju\\\\Desktop\\\\resources\\\\python\\\\Untitled Folder\\\\Untitled Folder\\\\test.docx\",\"C:\\\\Users\\\\Theju\\\\Desktop\\\\resources\\\\python\\\\Untitled Folder\\\\Untitled Folder\\\\test3.docx\")\n",
    "    "
   ]
  },
  {
   "cell_type": "code",
   "execution_count": null,
   "id": "43b77a22",
   "metadata": {},
   "outputs": [],
   "source": []
  }
 ],
 "metadata": {
  "kernelspec": {
   "display_name": "Python 3 (ipykernel)",
   "language": "python",
   "name": "python3"
  },
  "language_info": {
   "codemirror_mode": {
    "name": "ipython",
    "version": 3
   },
   "file_extension": ".py",
   "mimetype": "text/x-python",
   "name": "python",
   "nbconvert_exporter": "python",
   "pygments_lexer": "ipython3",
   "version": "3.11.7"
  }
 },
 "nbformat": 4,
 "nbformat_minor": 5
}
