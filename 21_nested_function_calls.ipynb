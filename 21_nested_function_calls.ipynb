{
 "cells": [
  {
   "cell_type": "code",
   "execution_count": 1,
   "id": "d850ba54",
   "metadata": {},
   "outputs": [],
   "source": [
    "#Nested Function calls are function calls inside other function calls\n",
    "#Inner most function calls are resolved first returned value is used as an argument for the next outer function."
   ]
  },
  {
   "cell_type": "code",
   "execution_count": 2,
   "id": "7e97d659",
   "metadata": {},
   "outputs": [
    {
     "name": "stdout",
     "output_type": "stream",
     "text": [
      "Enter a whole postive integer:-3.14\n",
      "3\n"
     ]
    }
   ],
   "source": [
    "num=input(\"Enter a whole postive integer:\")\n",
    "num=float(num)\n",
    "num=abs(num)\n",
    "num=round(num)\n",
    "print(num)"
   ]
  },
  {
   "cell_type": "code",
   "execution_count": 3,
   "id": "f6bc2b06",
   "metadata": {},
   "outputs": [
    {
     "name": "stdout",
     "output_type": "stream",
     "text": [
      "Enter a whole postive interger:-3.13\n",
      "3\n"
     ]
    }
   ],
   "source": [
    "#Instead of above program we can simply write like this\n",
    "print(round(abs(float(input(\"Enter a whole postive interger:\")))))"
   ]
  },
  {
   "cell_type": "code",
   "execution_count": null,
   "id": "6065fd36",
   "metadata": {},
   "outputs": [],
   "source": []
  }
 ],
 "metadata": {
  "kernelspec": {
   "display_name": "Python 3 (ipykernel)",
   "language": "python",
   "name": "python3"
  },
  "language_info": {
   "codemirror_mode": {
    "name": "ipython",
    "version": 3
   },
   "file_extension": ".py",
   "mimetype": "text/x-python",
   "name": "python",
   "nbconvert_exporter": "python",
   "pygments_lexer": "ipython3",
   "version": "3.11.7"
  }
 },
 "nbformat": 4,
 "nbformat_minor": 5
}
