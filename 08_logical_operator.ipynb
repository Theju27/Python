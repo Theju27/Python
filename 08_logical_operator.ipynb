{
 "cells": [
  {
   "cell_type": "code",
   "execution_count": 6,
   "id": "48bc3eb9",
   "metadata": {},
   "outputs": [
    {
     "name": "stdout",
     "output_type": "stream",
     "text": [
      "What is the temperature outside:45\n",
      "The temperature is ok\n"
     ]
    }
   ],
   "source": [
    "temp = int(input(\"What is the temperature outside:\"))\n",
    "if (temp >=0 and temp <= 10):\n",
    "    print(\"The temperature is too cold\")\n",
    "    print(\"Dont go out\")\n",
    "elif(temp>=11 and temp<=40):\n",
    "    print(\"The temperature is good today\")\n",
    "    print(\"Go Out\")\n",
    "elif not(temp>=50):\n",
    "    print(\"The temperature is ok\")\n",
    "else:\n",
    "    print(\"Temp is over hot\")\n"
   ]
  },
  {
   "cell_type": "code",
   "execution_count": null,
   "id": "45067db5",
   "metadata": {},
   "outputs": [],
   "source": []
  },
  {
   "cell_type": "code",
   "execution_count": null,
   "id": "887d2af9",
   "metadata": {},
   "outputs": [],
   "source": []
  }
 ],
 "metadata": {
  "kernelspec": {
   "display_name": "Python 3 (ipykernel)",
   "language": "python",
   "name": "python3"
  },
  "language_info": {
   "codemirror_mode": {
    "name": "ipython",
    "version": 3
   },
   "file_extension": ".py",
   "mimetype": "text/x-python",
   "name": "python",
   "nbconvert_exporter": "python",
   "pygments_lexer": "ipython3",
   "version": "3.11.7"
  }
 },
 "nbformat": 4,
 "nbformat_minor": 5
}
