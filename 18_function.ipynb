{
 "cells": [
  {
   "cell_type": "code",
   "execution_count": 1,
   "id": "02a397d7",
   "metadata": {},
   "outputs": [],
   "source": [
    "#A function is a block of code which is executed only when it is called"
   ]
  },
  {
   "cell_type": "code",
   "execution_count": 2,
   "id": "39721670",
   "metadata": {},
   "outputs": [],
   "source": [
    "def hello(first_name,last_name,age):\n",
    "    print(\"Hello\"+first_name+\"\"+last_name)\n",
    "    print(\"You are\"+str(age)+\"years old\")\n",
    "    print(\"Have a Nice day!\")\n"
   ]
  },
  {
   "cell_type": "code",
   "execution_count": 3,
   "id": "75833eb2",
   "metadata": {},
   "outputs": [
    {
     "name": "stdout",
     "output_type": "stream",
     "text": [
      "HelloBroCode\n",
      "You are21years old\n",
      "Have a Nice day!\n"
     ]
    }
   ],
   "source": [
    "hello(\"Bro\",\"Code\",21)"
   ]
  },
  {
   "cell_type": "code",
   "execution_count": null,
   "id": "98697e57",
   "metadata": {},
   "outputs": [],
   "source": []
  }
 ],
 "metadata": {
  "kernelspec": {
   "display_name": "Python 3 (ipykernel)",
   "language": "python",
   "name": "python3"
  },
  "language_info": {
   "codemirror_mode": {
    "name": "ipython",
    "version": 3
   },
   "file_extension": ".py",
   "mimetype": "text/x-python",
   "name": "python",
   "nbconvert_exporter": "python",
   "pygments_lexer": "ipython3",
   "version": "3.11.7"
  }
 },
 "nbformat": 4,
 "nbformat_minor": 5
}
