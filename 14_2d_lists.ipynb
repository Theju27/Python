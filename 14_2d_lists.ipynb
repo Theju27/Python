{
 "cells": [
  {
   "cell_type": "code",
   "execution_count": 1,
   "id": "f769b323",
   "metadata": {},
   "outputs": [],
   "source": [
    "drinks=[\"coffee\",\"soda\",\"tea\"]\n",
    "dinner=[\"pizza\",\"hamburger\",\"hotdog\"]\n",
    "dessert=[\"cake\",\"ice cream\"]\n",
    "food=[drinks,dinner,dessert]"
   ]
  },
  {
   "cell_type": "code",
   "execution_count": 2,
   "id": "d2154f77",
   "metadata": {},
   "outputs": [
    {
     "name": "stdout",
     "output_type": "stream",
     "text": [
      "coffee\n"
     ]
    }
   ],
   "source": [
    "print(food[0][0])"
   ]
  },
  {
   "cell_type": "code",
   "execution_count": 3,
   "id": "09369d18",
   "metadata": {},
   "outputs": [
    {
     "name": "stdout",
     "output_type": "stream",
     "text": [
      "hamburger\n"
     ]
    }
   ],
   "source": [
    "print(food[1][1])"
   ]
  },
  {
   "cell_type": "code",
   "execution_count": 5,
   "id": "f7e62847",
   "metadata": {},
   "outputs": [
    {
     "name": "stdout",
     "output_type": "stream",
     "text": [
      "ice cream\n"
     ]
    }
   ],
   "source": [
    "print(food[2][1])"
   ]
  },
  {
   "cell_type": "code",
   "execution_count": null,
   "id": "9670301d",
   "metadata": {},
   "outputs": [],
   "source": []
  }
 ],
 "metadata": {
  "kernelspec": {
   "display_name": "Python 3 (ipykernel)",
   "language": "python",
   "name": "python3"
  },
  "language_info": {
   "codemirror_mode": {
    "name": "ipython",
    "version": 3
   },
   "file_extension": ".py",
   "mimetype": "text/x-python",
   "name": "python",
   "nbconvert_exporter": "python",
   "pygments_lexer": "ipython3",
   "version": "3.11.7"
  }
 },
 "nbformat": 4,
 "nbformat_minor": 5
}
