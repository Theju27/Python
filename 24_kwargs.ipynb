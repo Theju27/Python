{
 "cells": [
  {
   "cell_type": "code",
   "execution_count": 1,
   "id": "d2e7c769",
   "metadata": {},
   "outputs": [],
   "source": [
    "#Kwargs is a parameter that will pack all arguments into a dictionary.\n",
    "#It is useful so that a function can accept a varying amount of Keyword arguments"
   ]
  },
  {
   "cell_type": "code",
   "execution_count": 2,
   "id": "787bf600",
   "metadata": {},
   "outputs": [],
   "source": [
    "def hello(**kwargs):\n",
    "    print(\"Hello\",end=\"\")\n",
    "    for key,value in kwargs.items():\n",
    "        print(value,end=\"\")\n"
   ]
  },
  {
   "cell_type": "code",
   "execution_count": 6,
   "id": "253873e6",
   "metadata": {},
   "outputs": [
    {
     "name": "stdout",
     "output_type": "stream",
     "text": [
      "Hello Mr. Bro Dude Code"
     ]
    }
   ],
   "source": [
    "hello(title=\" Mr. \",first=\"Bro\",middle=\" Dude\",last=\" Code\")"
   ]
  },
  {
   "cell_type": "code",
   "execution_count": null,
   "id": "614f11c1",
   "metadata": {},
   "outputs": [],
   "source": []
  }
 ],
 "metadata": {
  "kernelspec": {
   "display_name": "Python 3 (ipykernel)",
   "language": "python",
   "name": "python3"
  },
  "language_info": {
   "codemirror_mode": {
    "name": "ipython",
    "version": 3
   },
   "file_extension": ".py",
   "mimetype": "text/x-python",
   "name": "python",
   "nbconvert_exporter": "python",
   "pygments_lexer": "ipython3",
   "version": "3.11.7"
  }
 },
 "nbformat": 4,
 "nbformat_minor": 5
}
