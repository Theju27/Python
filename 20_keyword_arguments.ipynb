{
 "cells": [
  {
   "cell_type": "code",
   "execution_count": 1,
   "id": "e4512e0b",
   "metadata": {},
   "outputs": [],
   "source": [
    "#The arguments preceded by an identifier when we pass them to a function.\n",
    "#The order of the arguments doesn't matter, unlike positional arguments python knows the names of the arguments that our function receives."
   ]
  },
  {
   "cell_type": "code",
   "execution_count": 13,
   "id": "47fa6ae4",
   "metadata": {},
   "outputs": [],
   "source": [
    "def hello(first,middle,last):\n",
    "    print(\"Hello\" +first+ middle +last)"
   ]
  },
  {
   "cell_type": "code",
   "execution_count": 14,
   "id": "d01defc6",
   "metadata": {},
   "outputs": [
    {
     "name": "stdout",
     "output_type": "stream",
     "text": [
      "Hello Bro Dude Code\n"
     ]
    }
   ],
   "source": [
    "hello(last=\"Code\",middle=\"Dude \",first=\" Bro \")"
   ]
  },
  {
   "cell_type": "code",
   "execution_count": null,
   "id": "6936e763",
   "metadata": {},
   "outputs": [],
   "source": []
  }
 ],
 "metadata": {
  "kernelspec": {
   "display_name": "Python 3 (ipykernel)",
   "language": "python",
   "name": "python3"
  },
  "language_info": {
   "codemirror_mode": {
    "name": "ipython",
    "version": 3
   },
   "file_extension": ".py",
   "mimetype": "text/x-python",
   "name": "python",
   "nbconvert_exporter": "python",
   "pygments_lexer": "ipython3",
   "version": "3.11.7"
  }
 },
 "nbformat": 4,
 "nbformat_minor": 5
}
