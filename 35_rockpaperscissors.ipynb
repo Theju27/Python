{
 "cells": [
  {
   "cell_type": "code",
   "execution_count": 1,
   "id": "572d6160",
   "metadata": {},
   "outputs": [],
   "source": [
    "#Rock,Paper,Scissors game"
   ]
  },
  {
   "cell_type": "code",
   "execution_count": null,
   "id": "60224f49",
   "metadata": {},
   "outputs": [
    {
     "name": "stdout",
     "output_type": "stream",
     "text": [
      "Rock,Paper or Scissors: Pick 1:rock\n",
      "Computer: paper\n",
      "Player: rock\n",
      "You lost!!!\n"
     ]
    }
   ],
   "source": [
    "import random\n",
    "while True:\n",
    "    choices = ['rock','paper', 'scissors']\n",
    "    computer = random.choice(choices)\n",
    "    player = None\n",
    "    while player not in choices:\n",
    "        player = input(\"Rock,Paper or Scissors: Pick 1:\").lower()\n",
    "        if player == computer:\n",
    "            print(\"Computer:\",computer)\n",
    "            print(\"You:\",player)\n",
    "            print(\"Tie!!!\")\n",
    "        elif player ==\"rock\":\n",
    "            if computer == \"paper\":\n",
    "                print(\"Computer:\",computer)\n",
    "                print(\"Player:\",player)\n",
    "                print(\"You lost!!!\")\n",
    "            if computer == \"scissors\":\n",
    "                print(\"Computer:\",computer)\n",
    "                print(\"Player:\",player)\n",
    "                print(\"You win!!!\")\n",
    "        elif player ==\"scissors\":\n",
    "            if computer == \"rock\":\n",
    "                print(\"Computer:\",computer)\n",
    "                print(\"Player:\",player)\n",
    "                print(\"You lost!!!\")\n",
    "            if computer == \"paper\":\n",
    "                print(\"Computer:\",computer)\n",
    "                print(\"Player:\",player)\n",
    "                print(\"You win!!!\") \n",
    "        elif player ==\"paper\":\n",
    "            if computer == \"scissors\":\n",
    "                print(\"Computer:\",computer)\n",
    "                print(\"Player:\",player)\n",
    "                print(\"You lost!!!\")\n",
    "            if computer == \"rock\":\n",
    "                print(\"Computer:\",computer)\n",
    "                print(\"Player:\",player)\n",
    "                print(\"You win!!!\")\n",
    "    play_again = input(\"Do yo want to play again(yes/No)?\").lower()\n",
    "    if play_again != 'yes':\n",
    "        break\n",
    "print(\"Bye! Have a Good Day :)\")\n"
   ]
  },
  {
   "cell_type": "code",
   "execution_count": null,
   "id": "8ea75a6d",
   "metadata": {},
   "outputs": [],
   "source": []
  },
  {
   "cell_type": "code",
   "execution_count": null,
   "id": "3e4ffce5",
   "metadata": {},
   "outputs": [],
   "source": []
  }
 ],
 "metadata": {
  "kernelspec": {
   "display_name": "Python 3 (ipykernel)",
   "language": "python",
   "name": "python3"
  },
  "language_info": {
   "codemirror_mode": {
    "name": "ipython",
    "version": 3
   },
   "file_extension": ".py",
   "mimetype": "text/x-python",
   "name": "python",
   "nbconvert_exporter": "python",
   "pygments_lexer": "ipython3",
   "version": "3.11.7"
  }
 },
 "nbformat": 4,
 "nbformat_minor": 5
}
