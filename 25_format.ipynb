{
 "cells": [
  {
   "cell_type": "code",
   "execution_count": 1,
   "id": "2729af0c",
   "metadata": {},
   "outputs": [],
   "source": [
    "#format() is an optional method that gives users more control when displaying output"
   ]
  },
  {
   "cell_type": "code",
   "execution_count": 2,
   "id": "da441759",
   "metadata": {},
   "outputs": [],
   "source": [
    "animal = \"cow\"\n",
    "item = \"moon\""
   ]
  },
  {
   "cell_type": "code",
   "execution_count": 6,
   "id": "5643aae4",
   "metadata": {},
   "outputs": [
    {
     "name": "stdout",
     "output_type": "stream",
     "text": [
      "The cow jumped over the moon\n"
     ]
    }
   ],
   "source": [
    "print(\"The \" +animal+\" jumped over the \"+item)"
   ]
  },
  {
   "cell_type": "code",
   "execution_count": 7,
   "id": "ef3fde5b",
   "metadata": {},
   "outputs": [
    {
     "name": "stdout",
     "output_type": "stream",
     "text": [
      "The cow jumped over the moon\n"
     ]
    }
   ],
   "source": [
    "print(\"The {} jumped over the {}\".format(animal,item))"
   ]
  },
  {
   "cell_type": "code",
   "execution_count": 8,
   "id": "24a651cc",
   "metadata": {},
   "outputs": [
    {
     "name": "stdout",
     "output_type": "stream",
     "text": [
      "The cow jumped over the moon\n"
     ]
    }
   ],
   "source": [
    "print(\"The {0} jumped over the {1}\".format(animal,item)) #Positional arguments\n"
   ]
  },
  {
   "cell_type": "code",
   "execution_count": 10,
   "id": "7676007c",
   "metadata": {},
   "outputs": [
    {
     "name": "stdout",
     "output_type": "stream",
     "text": [
      "The cow jumped over the moon\n"
     ]
    }
   ],
   "source": [
    "print(\"The {animal} jumped over the {item}\".format(animal=\"cow\",item=\"moon\"))"
   ]
  },
  {
   "cell_type": "code",
   "execution_count": 11,
   "id": "c3590e64",
   "metadata": {},
   "outputs": [],
   "source": [
    "name=\"Bro\""
   ]
  },
  {
   "cell_type": "code",
   "execution_count": 12,
   "id": "133541cc",
   "metadata": {},
   "outputs": [
    {
     "name": "stdout",
     "output_type": "stream",
     "text": [
      "Hello,my name is Bro\n"
     ]
    }
   ],
   "source": [
    "print(\"Hello,my name is {}\".format(name))"
   ]
  },
  {
   "cell_type": "code",
   "execution_count": 13,
   "id": "dc8c470d",
   "metadata": {},
   "outputs": [
    {
     "name": "stdout",
     "output_type": "stream",
     "text": [
      "Hello,my name isBro       \n"
     ]
    }
   ],
   "source": [
    "print(\"Hello,my name is{:10}\".format(name))"
   ]
  },
  {
   "cell_type": "code",
   "execution_count": 14,
   "id": "5e7a785d",
   "metadata": {},
   "outputs": [
    {
     "name": "stdout",
     "output_type": "stream",
     "text": [
      "Hello,my name is Bro       .Nice to meet you\n"
     ]
    }
   ],
   "source": [
    "print(\"Hello,my name is {:10}.Nice to meet you\".format(name))"
   ]
  },
  {
   "cell_type": "code",
   "execution_count": 15,
   "id": "0b12154d",
   "metadata": {},
   "outputs": [
    {
     "name": "stdout",
     "output_type": "stream",
     "text": [
      "Hello,my name is        Bro.Nice to meet you\n"
     ]
    }
   ],
   "source": [
    "print(\"Hello,my name is {:>10}.Nice to meet you\".format(name))"
   ]
  },
  {
   "cell_type": "code",
   "execution_count": 16,
   "id": "b907a98f",
   "metadata": {},
   "outputs": [
    {
     "name": "stdout",
     "output_type": "stream",
     "text": [
      "Hello,my name is   Bro    .Nice to meet you\n"
     ]
    }
   ],
   "source": [
    "print(\"Hello,my name is{:^10}.Nice to meet you\".format(name))"
   ]
  },
  {
   "cell_type": "code",
   "execution_count": 17,
   "id": "61270205",
   "metadata": {},
   "outputs": [],
   "source": [
    "#format numbers"
   ]
  },
  {
   "cell_type": "code",
   "execution_count": 18,
   "id": "e670feab",
   "metadata": {},
   "outputs": [],
   "source": [
    "number=3.14159"
   ]
  },
  {
   "cell_type": "code",
   "execution_count": 19,
   "id": "8d611ea7",
   "metadata": {},
   "outputs": [
    {
     "name": "stdout",
     "output_type": "stream",
     "text": [
      "The number pi is 3.14\n"
     ]
    }
   ],
   "source": [
    "print(\"The number pi is {:.2f}\".format(number))"
   ]
  },
  {
   "cell_type": "code",
   "execution_count": 24,
   "id": "4f818b64",
   "metadata": {},
   "outputs": [],
   "source": [
    "number = 1500"
   ]
  },
  {
   "cell_type": "code",
   "execution_count": 25,
   "id": "126d0b2a",
   "metadata": {},
   "outputs": [
    {
     "name": "stdout",
     "output_type": "stream",
     "text": [
      "The number is 1,500\n"
     ]
    }
   ],
   "source": [
    "print(\"The number is {:,}\".format(number))"
   ]
  },
  {
   "cell_type": "code",
   "execution_count": 26,
   "id": "859b7ea1",
   "metadata": {},
   "outputs": [
    {
     "name": "stdout",
     "output_type": "stream",
     "text": [
      "The number is 10111011100\n"
     ]
    }
   ],
   "source": [
    "print(\"The number is {:b}\".format(number)) #prints binary number"
   ]
  },
  {
   "cell_type": "code",
   "execution_count": 30,
   "id": "d0cf4799",
   "metadata": {},
   "outputs": [
    {
     "name": "stdout",
     "output_type": "stream",
     "text": [
      "The number is 2734\n"
     ]
    }
   ],
   "source": [
    "print(\"The number is {:o}\".format(number)) #Prints octal number"
   ]
  },
  {
   "cell_type": "code",
   "execution_count": 28,
   "id": "42823fca",
   "metadata": {},
   "outputs": [
    {
     "name": "stdout",
     "output_type": "stream",
     "text": [
      "The number is 5DC\n"
     ]
    }
   ],
   "source": [
    "print(\"The number is {:X}\".format(number)) #Prints hexadecimal number"
   ]
  },
  {
   "cell_type": "code",
   "execution_count": 29,
   "id": "598b7a81",
   "metadata": {},
   "outputs": [
    {
     "name": "stdout",
     "output_type": "stream",
     "text": [
      "The number is 1.500000E+03\n"
     ]
    }
   ],
   "source": [
    "print(\"The number is {:E}\".format(number)) #Prints the scientific number"
   ]
  },
  {
   "cell_type": "code",
   "execution_count": null,
   "id": "01eb9480",
   "metadata": {},
   "outputs": [],
   "source": []
  }
 ],
 "metadata": {
  "kernelspec": {
   "display_name": "Python 3 (ipykernel)",
   "language": "python",
   "name": "python3"
  },
  "language_info": {
   "codemirror_mode": {
    "name": "ipython",
    "version": 3
   },
   "file_extension": ".py",
   "mimetype": "text/x-python",
   "name": "python",
   "nbconvert_exporter": "python",
   "pygments_lexer": "ipython3",
   "version": "3.11.7"
  }
 },
 "nbformat": 4,
 "nbformat_minor": 5
}
