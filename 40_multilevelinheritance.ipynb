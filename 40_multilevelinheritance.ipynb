{
 "cells": [
  {
   "cell_type": "code",
   "execution_count": 1,
   "id": "b137796f",
   "metadata": {},
   "outputs": [],
   "source": [
    "#Multi level inheritance:\n",
    "                       # When a derived(child) class inherits another derived(child) class.\n",
    "#If a derived class becomes base class for another derived class then it is called \"Multi - level inheritance\"."
   ]
  },
  {
   "cell_type": "code",
   "execution_count": 2,
   "id": "48bcebbe",
   "metadata": {},
   "outputs": [],
   "source": [
    "class Organism:\n",
    "    alive = True"
   ]
  },
  {
   "cell_type": "code",
   "execution_count": 3,
   "id": "fa84650b",
   "metadata": {},
   "outputs": [],
   "source": [
    "class Animal(Organism):\n",
    "    def eat(self):\n",
    "        print(\"This Animal is eating\")"
   ]
  },
  {
   "cell_type": "code",
   "execution_count": 4,
   "id": "29f48b74",
   "metadata": {},
   "outputs": [],
   "source": [
    "class Dog(Animal):\n",
    "    def bark(self):\n",
    "        print(\"This dog is barking\")"
   ]
  },
  {
   "cell_type": "code",
   "execution_count": 6,
   "id": "39ca5d74",
   "metadata": {},
   "outputs": [
    {
     "name": "stdout",
     "output_type": "stream",
     "text": [
      "True\n",
      "This Animal is eating\n",
      "This dog is barking\n"
     ]
    }
   ],
   "source": [
    "dog = Dog()\n",
    "print(dog.alive)\n",
    "dog.eat()\n",
    "dog.bark()"
   ]
  }
 ],
 "metadata": {
  "kernelspec": {
   "display_name": "Python 3 (ipykernel)",
   "language": "python",
   "name": "python3"
  },
  "language_info": {
   "codemirror_mode": {
    "name": "ipython",
    "version": 3
   },
   "file_extension": ".py",
   "mimetype": "text/x-python",
   "name": "python",
   "nbconvert_exporter": "python",
   "pygments_lexer": "ipython3",
   "version": "3.11.7"
  }
 },
 "nbformat": 4,
 "nbformat_minor": 5
}
