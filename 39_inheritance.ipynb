{
 "cells": [
  {
   "cell_type": "code",
   "execution_count": 12,
   "id": "6215f788",
   "metadata": {},
   "outputs": [],
   "source": [
    "#Inheritance:\n",
    "            # It is the process by which objects of one class acquire the properties of objects of another class\n",
    "# Process of deriving a new class from an existing class.\n",
    "# Existing class is known as base,parent, or super class.\n",
    "# New class is known as derived, child or sub class.\n",
    "# Derived class has all the features of the base class plus it has some extra features also.\n",
    "# Inheritance provides the idea of \"Reusability\".\n"
   ]
  },
  {
   "cell_type": "code",
   "execution_count": 13,
   "id": "42299ade",
   "metadata": {},
   "outputs": [],
   "source": [
    "class Animal:\n",
    "    alive = True\n",
    "    def eat(self):\n",
    "        print(\"This animal is eating\")\n",
    "    \n",
    "    def slumber(self):\n",
    "        print(\"This animal is sleeping\")"
   ]
  },
  {
   "cell_type": "code",
   "execution_count": 14,
   "id": "e8035272",
   "metadata": {},
   "outputs": [],
   "source": [
    "class Rabbit(Animal):\n",
    "    def run(self):\n",
    "        print(\"This rabbit is running\")"
   ]
  },
  {
   "cell_type": "code",
   "execution_count": 15,
   "id": "053656a5",
   "metadata": {},
   "outputs": [],
   "source": [
    "class Fish(Animal):\n",
    "    def swim(self):\n",
    "        print(\"This fish is swimming\")"
   ]
  },
  {
   "cell_type": "code",
   "execution_count": 16,
   "id": "efb7cff6",
   "metadata": {},
   "outputs": [],
   "source": [
    "class Dog(Animal):\n",
    "    def bark(self):\n",
    "        print(\"This dog is barking\")"
   ]
  },
  {
   "cell_type": "code",
   "execution_count": 22,
   "id": "f1cdfd8d",
   "metadata": {},
   "outputs": [
    {
     "name": "stdout",
     "output_type": "stream",
     "text": [
      "This animal is eating\n",
      "This animal is sleeping\n",
      "This fish is swimming\n",
      "This animal is sleeping\n",
      "This dog is barking\n",
      "This animal is eating\n",
      "This rabbit is running\n",
      "This animal is eating\n",
      "This animal is sleeping\n"
     ]
    }
   ],
   "source": [
    "dog = Dog()\n",
    "fish = Fish()\n",
    "rabbit = Rabbit()\n",
    "fish.eat()\n",
    "fish.slumber()\n",
    "fish.swim()\n",
    "dog.slumber()\n",
    "dog.bark()\n",
    "dog.eat()\n",
    "rabbit.run()\n",
    "rabbit.eat()\n",
    "rabbit.slumber()"
   ]
  },
  {
   "cell_type": "code",
   "execution_count": null,
   "id": "a9f9eb17",
   "metadata": {},
   "outputs": [],
   "source": []
  }
 ],
 "metadata": {
  "kernelspec": {
   "display_name": "Python 3 (ipykernel)",
   "language": "python",
   "name": "python3"
  },
  "language_info": {
   "codemirror_mode": {
    "name": "ipython",
    "version": 3
   },
   "file_extension": ".py",
   "mimetype": "text/x-python",
   "name": "python",
   "nbconvert_exporter": "python",
   "pygments_lexer": "ipython3",
   "version": "3.11.7"
  }
 },
 "nbformat": 4,
 "nbformat_minor": 5
}
