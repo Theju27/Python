{
 "cells": [
  {
   "cell_type": "code",
   "execution_count": 1,
   "id": "f9a31d67",
   "metadata": {},
   "outputs": [],
   "source": [
    "#Return statement is used within functions to send python values/objects back to the caller.\n",
    "#These values are known as the function"
   ]
  },
  {
   "cell_type": "code",
   "execution_count": 3,
   "id": "9ea7dc13",
   "metadata": {},
   "outputs": [
    {
     "name": "stdout",
     "output_type": "stream",
     "text": [
      "48\n"
     ]
    }
   ],
   "source": [
    "def multiply(num1,num2):\n",
    "    result=num1*num2\n",
    "    return result\n",
    "print(multiply(6,8))"
   ]
  },
  {
   "cell_type": "code",
   "execution_count": 4,
   "id": "696c39d9",
   "metadata": {},
   "outputs": [
    {
     "name": "stdout",
     "output_type": "stream",
     "text": [
      "48\n"
     ]
    }
   ],
   "source": [
    "def multiply(num1,num2):\n",
    "    return num1*num2\n",
    "x=multiply(6,8)\n",
    "print(x)"
   ]
  },
  {
   "cell_type": "code",
   "execution_count": null,
   "id": "20e3ceec",
   "metadata": {},
   "outputs": [],
   "source": []
  }
 ],
 "metadata": {
  "kernelspec": {
   "display_name": "Python 3 (ipykernel)",
   "language": "python",
   "name": "python3"
  },
  "language_info": {
   "codemirror_mode": {
    "name": "ipython",
    "version": 3
   },
   "file_extension": ".py",
   "mimetype": "text/x-python",
   "name": "python",
   "nbconvert_exporter": "python",
   "pygments_lexer": "ipython3",
   "version": "3.11.7"
  }
 },
 "nbformat": 4,
 "nbformat_minor": 5
}
