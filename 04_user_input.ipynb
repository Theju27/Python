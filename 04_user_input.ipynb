{
 "cells": [
  {
   "cell_type": "code",
   "execution_count": null,
   "id": "d6deda59",
   "metadata": {},
   "outputs": [],
   "source": [
    "#User input\n",
    "name = input(\"What is your name:\")\n",
    "age =  int(input(\"What is your age?:\"))\n",
    "height = float(input(\"What is your height?:\"))\n",
    "\n",
    "print(\"Hi\"+name)\n",
    "print(\"You are \"+str(age)\"old\" )"
   ]
  }
 ],
 "metadata": {
  "kernelspec": {
   "display_name": "Python 3 (ipykernel)",
   "language": "python",
   "name": "python3"
  },
  "language_info": {
   "codemirror_mode": {
    "name": "ipython",
    "version": 3
   },
   "file_extension": ".py",
   "mimetype": "text/x-python",
   "name": "python",
   "nbconvert_exporter": "python",
   "pygments_lexer": "ipython3",
   "version": "3.11.7"
  }
 },
 "nbformat": 4,
 "nbformat_minor": 5
}
