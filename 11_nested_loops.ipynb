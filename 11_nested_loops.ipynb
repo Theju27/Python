{
 "cells": [
  {
   "cell_type": "code",
   "execution_count": 1,
   "id": "d528be95",
   "metadata": {},
   "outputs": [
    {
     "name": "stdout",
     "output_type": "stream",
     "text": [
      "Enter no.of rows:3\n",
      "Enter no.of columns:3\n",
      "Enter a symbol to usse:$\n",
      "$$$\n",
      "$$$\n",
      "$$$\n"
     ]
    }
   ],
   "source": [
    "rows=int(input(\"Enter no.of rows:\"))\n",
    "columns=int(input(\"Enter no.of columns:\"))\n",
    "symbol=input(\"Enter a symbol to use:\")\n",
    "for i in range(rows):\n",
    "    for j in range(columns):\n",
    "        print(symbol,end=\"\")\n",
    "    print()\n"
   ]
  },
  {
   "cell_type": "code",
   "execution_count": null,
   "id": "fcbb2045",
   "metadata": {},
   "outputs": [],
   "source": []
  }
 ],
 "metadata": {
  "kernelspec": {
   "display_name": "Python 3 (ipykernel)",
   "language": "python",
   "name": "python3"
  },
  "language_info": {
   "codemirror_mode": {
    "name": "ipython",
    "version": 3
   },
   "file_extension": ".py",
   "mimetype": "text/x-python",
   "name": "python",
   "nbconvert_exporter": "python",
   "pygments_lexer": "ipython3",
   "version": "3.11.7"
  }
 },
 "nbformat": 4,
 "nbformat_minor": 5
}
