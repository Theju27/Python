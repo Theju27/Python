{
 "cells": [
  {
   "cell_type": "code",
   "execution_count": 1,
   "id": "2a0d66f9",
   "metadata": {},
   "outputs": [],
   "source": [
    "#Exception are events detected during execution that interrupt the flow of a program.\n",
    "#We handle exception using try and except block."
   ]
  },
  {
   "cell_type": "code",
   "execution_count": 8,
   "id": "4f675c4a",
   "metadata": {},
   "outputs": [
    {
     "name": "stdout",
     "output_type": "stream",
     "text": [
      "Enter numerator value:4\n",
      "Enter denominator value:2\n",
      "2.0\n",
      "This will always execute\n"
     ]
    }
   ],
   "source": [
    "try: \n",
    "    numerator = int(input(\"Enter numerator value:\"))\n",
    "    denominator = int(input(\"Enter denominator value:\"))\n",
    "    result = numerator/denominator\n",
    "except ZeroDivisionError as e:\n",
    "    print(e)\n",
    "    print(\"You can't divide by zero!!\")\n",
    "except ValueError as e:\n",
    "    print(e)\n",
    "    print(\"Enter only numbers plz!!!\")\n",
    "except Exception as e:\n",
    "    print(e)\n",
    "    print(\"Something went wrong e:\")\n",
    "else:\n",
    "    print(result)\n",
    "finally:\n",
    "    print(\"This will always execute\")"
   ]
  },
  {
   "cell_type": "code",
   "execution_count": 9,
   "id": "834986e0",
   "metadata": {},
   "outputs": [],
   "source": [
    "#Flow:\n",
    "#Else block only executes if execption block doesn't gets executed.\n",
    "#Finally block always gets executed."
   ]
  },
  {
   "cell_type": "code",
   "execution_count": null,
   "id": "1c8de673",
   "metadata": {},
   "outputs": [],
   "source": []
  },
  {
   "cell_type": "code",
   "execution_count": null,
   "id": "4e17c6c5",
   "metadata": {},
   "outputs": [],
   "source": []
  }
 ],
 "metadata": {
  "kernelspec": {
   "display_name": "Python 3 (ipykernel)",
   "language": "python",
   "name": "python3"
  },
  "language_info": {
   "codemirror_mode": {
    "name": "ipython",
    "version": 3
   },
   "file_extension": ".py",
   "mimetype": "text/x-python",
   "name": "python",
   "nbconvert_exporter": "python",
   "pygments_lexer": "ipython3",
   "version": "3.11.7"
  }
 },
 "nbformat": 4,
 "nbformat_minor": 5
}
