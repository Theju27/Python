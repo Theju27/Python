{
 "cells": [
  {
   "cell_type": "code",
   "execution_count": 2,
   "id": "7443f87a",
   "metadata": {},
   "outputs": [
    {
     "name": "stdout",
     "output_type": "stream",
     "text": [
      "Enter your name:\n",
      "Enter your name:\n",
      "Enter your name:\n",
      "Enter your name:\n",
      "Enter your name:\n",
      "Enter your name:\n",
      "Enter your name:\n",
      "Enter your name:\n",
      "Enter your name:hi\n",
      "Hello hi\n"
     ]
    }
   ],
   "source": [
    "name = \"\"\n",
    "while len(name) == 0:\n",
    "    name = input(\"Enter your name:\")\n",
    "print(\"Hello \"+name)"
   ]
  },
  {
   "cell_type": "code",
   "execution_count": 3,
   "id": "16c77c97",
   "metadata": {},
   "outputs": [
    {
     "name": "stdout",
     "output_type": "stream",
     "text": [
      "Enter your name:\n",
      "Enter your name:\n",
      "Enter your name:\n",
      "Enter your name:\n",
      "Enter your name:\n",
      "Enter your name:Bye\n",
      "Hello Bye\n"
     ]
    }
   ],
   "source": [
    "#Another version of the above code\n",
    "name = None\n",
    "while not name:\n",
    "    name = input(\"Enter your name:\")\n",
    "print(\"Hello \"+name)"
   ]
  },
  {
   "cell_type": "code",
   "execution_count": null,
   "id": "5e807688",
   "metadata": {},
   "outputs": [],
   "source": []
  }
 ],
 "metadata": {
  "kernelspec": {
   "display_name": "Python 3 (ipykernel)",
   "language": "python",
   "name": "python3"
  },
  "language_info": {
   "codemirror_mode": {
    "name": "ipython",
    "version": 3
   },
   "file_extension": ".py",
   "mimetype": "text/x-python",
   "name": "python",
   "nbconvert_exporter": "python",
   "pygments_lexer": "ipython3",
   "version": "3.11.7"
  }
 },
 "nbformat": 4,
 "nbformat_minor": 5
}
