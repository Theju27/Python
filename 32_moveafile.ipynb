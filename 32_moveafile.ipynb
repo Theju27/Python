{
 "cells": [
  {
   "cell_type": "code",
   "execution_count": null,
   "id": "67437d34",
   "metadata": {},
   "outputs": [],
   "source": [
    "#Move files\n",
    "import os\n",
    "source = input(\"Please enter the source file path to move:\")\n",
    "destination = input(\"Please enter the destination path:\")\n",
    "print(\"You entered source path:\" +source)\n",
    "print(\"You entered destination path:\" +destination)\n",
    "try:\n",
    "    if os.path.exists(destination):\n",
    "        print(\"File already exists at the destination location \")\n",
    "    else:\n",
    "        os.replace(source,destination)\n",
    "        print(source+ \"moved successfully\")\n",
    "except FileNotFoundError:\n",
    "    print(source+ \"was not found\")"
   ]
  },
  {
   "cell_type": "code",
   "execution_count": null,
   "id": "f145a1bb",
   "metadata": {},
   "outputs": [],
   "source": []
  },
  {
   "cell_type": "code",
   "execution_count": null,
   "id": "add06e12",
   "metadata": {},
   "outputs": [],
   "source": []
  }
 ],
 "metadata": {
  "kernelspec": {
   "display_name": "Python 3 (ipykernel)",
   "language": "python",
   "name": "python3"
  },
  "language_info": {
   "codemirror_mode": {
    "name": "ipython",
    "version": 3
   },
   "file_extension": ".py",
   "mimetype": "text/x-python",
   "name": "python",
   "nbconvert_exporter": "python",
   "pygments_lexer": "ipython3",
   "version": "3.11.7"
  }
 },
 "nbformat": 4,
 "nbformat_minor": 5
}
