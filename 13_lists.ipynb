{
 "cells": [
  {
   "cell_type": "code",
   "execution_count": 1,
   "id": "144e3e1f",
   "metadata": {},
   "outputs": [
    {
     "name": "stdout",
     "output_type": "stream",
     "text": [
      "pizza\n"
     ]
    }
   ],
   "source": [
    "#List is used to store multiple items in a single variable\n",
    "food=[\"pizza\",\"hamburger\",\"hotdog\",\"spaghetti\",\"pudding\"]\n",
    "print(food[0])"
   ]
  },
  {
   "cell_type": "code",
   "execution_count": 2,
   "id": "29f92671",
   "metadata": {},
   "outputs": [
    {
     "name": "stdout",
     "output_type": "stream",
     "text": [
      "pasta\n"
     ]
    }
   ],
   "source": [
    "food[0]=\"pasta\"\n",
    "print(food[0])"
   ]
  },
  {
   "cell_type": "code",
   "execution_count": 8,
   "id": "cfcfd285",
   "metadata": {},
   "outputs": [
    {
     "name": "stdout",
     "output_type": "stream",
     "text": [
      "['pasta', 'hamburger', 'hotdog', 'spaghetti', 'pudding']\n",
      "pasta\n",
      "hamburger\n",
      "hotdog\n",
      "spaghetti\n",
      "pudding\n"
     ]
    }
   ],
   "source": [
    "ran=len(food)\n",
    "print(food)\n",
    "for i in food:\n",
    "    print(i)"
   ]
  },
  {
   "cell_type": "code",
   "execution_count": 9,
   "id": "63a06332",
   "metadata": {},
   "outputs": [
    {
     "name": "stdout",
     "output_type": "stream",
     "text": [
      "['pasta', 'hamburger', 'hotdog', 'spaghetti', 'pudding', 'Ice cream']\n"
     ]
    }
   ],
   "source": [
    "food.append(\"Ice cream\")\n",
    "print(food)"
   ]
  },
  {
   "cell_type": "code",
   "execution_count": 10,
   "id": "afc00105",
   "metadata": {},
   "outputs": [
    {
     "name": "stdout",
     "output_type": "stream",
     "text": [
      "['pasta', 'hamburger', 'spaghetti', 'pudding', 'Ice cream']\n"
     ]
    }
   ],
   "source": [
    "food.remove(\"hotdog\")\n",
    "print(food)"
   ]
  },
  {
   "cell_type": "code",
   "execution_count": 12,
   "id": "8764933a",
   "metadata": {},
   "outputs": [
    {
     "name": "stdout",
     "output_type": "stream",
     "text": [
      "['pasta', 'hamburger', 'spaghetti']\n"
     ]
    }
   ],
   "source": [
    "food.pop()\n",
    "print(food)"
   ]
  },
  {
   "cell_type": "code",
   "execution_count": 13,
   "id": "9a4e78ee",
   "metadata": {},
   "outputs": [
    {
     "name": "stdout",
     "output_type": "stream",
     "text": [
      "['hamburger', 'pasta', 'spaghetti']\n"
     ]
    }
   ],
   "source": [
    "food.sort()\n",
    "print(food)"
   ]
  },
  {
   "cell_type": "code",
   "execution_count": 14,
   "id": "3d650a99",
   "metadata": {},
   "outputs": [
    {
     "name": "stdout",
     "output_type": "stream",
     "text": [
      "[]\n"
     ]
    }
   ],
   "source": [
    "food.clear()\n",
    "print(food)"
   ]
  },
  {
   "cell_type": "code",
   "execution_count": null,
   "id": "3b5d2710",
   "metadata": {},
   "outputs": [],
   "source": []
  }
 ],
 "metadata": {
  "kernelspec": {
   "display_name": "Python 3 (ipykernel)",
   "language": "python",
   "name": "python3"
  },
  "language_info": {
   "codemirror_mode": {
    "name": "ipython",
    "version": 3
   },
   "file_extension": ".py",
   "mimetype": "text/x-python",
   "name": "python",
   "nbconvert_exporter": "python",
   "pygments_lexer": "ipython3",
   "version": "3.11.7"
  }
 },
 "nbformat": 4,
 "nbformat_minor": 5
}
