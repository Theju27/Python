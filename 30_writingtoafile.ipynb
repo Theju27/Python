{
 "cells": [
  {
   "cell_type": "code",
   "execution_count": 2,
   "id": "4f4b0182",
   "metadata": {},
   "outputs": [
    {
     "name": "stdout",
     "output_type": "stream",
     "text": [
      "Enter what you want to write into a file:Hi hello i am good\n",
      "You entered:Hi hello i am good\n"
     ]
    }
   ],
   "source": [
    "#Write to a file\n",
    "text = input(\"Enter what you want to write into a file:\")\n",
    "print(\"You entered:\" +text)\n",
    "with open(\"C:\\\\Users\\\\Theju\\\\Desktop\\\\resources\\\\python\\\\Untitled Folder\\\\Untitled Folder\\\\test.docx\",'w') as file:\n",
    "    file.write(text)"
   ]
  },
  {
   "cell_type": "code",
   "execution_count": 5,
   "id": "36676063",
   "metadata": {},
   "outputs": [
    {
     "name": "stdout",
     "output_type": "stream",
     "text": [
      "Enter what you want ad  to a file:bye bye\n",
      "You entered:bye bye\n"
     ]
    }
   ],
   "source": [
    "#To append some data to previous data in the file\n",
    "text = input(\"Enter what you want ad  to a file:\")\n",
    "print(\"You entered:\" +text)\n",
    "with open(\"C:\\\\Users\\\\Theju\\\\Desktop\\\\resources\\\\python\\\\Untitled Folder\\\\Untitled Folder\\\\test.docx\",'a') as file:\n",
    "    file.write(\"\\n\")   # To append data to next line\n",
    "    file.write(text)\n",
    "    "
   ]
  },
  {
   "cell_type": "code",
   "execution_count": null,
   "id": "e0396708",
   "metadata": {},
   "outputs": [],
   "source": []
  }
 ],
 "metadata": {
  "kernelspec": {
   "display_name": "Python 3 (ipykernel)",
   "language": "python",
   "name": "python3"
  },
  "language_info": {
   "codemirror_mode": {
    "name": "ipython",
    "version": 3
   },
   "file_extension": ".py",
   "mimetype": "text/x-python",
   "name": "python",
   "nbconvert_exporter": "python",
   "pygments_lexer": "ipython3",
   "version": "3.11.7"
  }
 },
 "nbformat": 4,
 "nbformat_minor": 5
}
