{
 "cells": [
  {
   "cell_type": "code",
   "execution_count": 2,
   "id": "0beb175a",
   "metadata": {},
   "outputs": [],
   "source": [
    "#Args is a parameter that will pack all arguments into a tuple\n",
    "#It is useful so that a function can accept a varying amount of arguments"
   ]
  },
  {
   "cell_type": "code",
   "execution_count": 4,
   "id": "d864ecbb",
   "metadata": {},
   "outputs": [
    {
     "name": "stdout",
     "output_type": "stream",
     "text": [
      "20\n"
     ]
    }
   ],
   "source": [
    "def add(*stuff):\n",
    "    sum=0\n",
    "    stuff=list(stuff)\n",
    "    stuff[0]=0\n",
    "    for i in stuff:\n",
    "        sum+=i\n",
    "    return sum\n",
    "print(add(1,2,3,4,5,6)) # We can pass how many values as we want"
   ]
  },
  {
   "cell_type": "code",
   "execution_count": null,
   "id": "07281b62",
   "metadata": {},
   "outputs": [],
   "source": []
  }
 ],
 "metadata": {
  "kernelspec": {
   "display_name": "Python 3 (ipykernel)",
   "language": "python",
   "name": "python3"
  },
  "language_info": {
   "codemirror_mode": {
    "name": "ipython",
    "version": 3
   },
   "file_extension": ".py",
   "mimetype": "text/x-python",
   "name": "python",
   "nbconvert_exporter": "python",
   "pygments_lexer": "ipython3",
   "version": "3.11.7"
  }
 },
 "nbformat": 4,
 "nbformat_minor": 5
}
