{
 "cells": [
  {
   "cell_type": "code",
   "execution_count": 1,
   "id": "a0ed5951",
   "metadata": {},
   "outputs": [],
   "source": [
    "#Multiple Inheritance:\n",
    "                    # When a child class is derived from more than one parent class.\n",
    "#If a derived class has more than two or more base classes is called \"Multiple Inheritance\"."
   ]
  },
  {
   "cell_type": "code",
   "execution_count": 8,
   "id": "a0d00d69",
   "metadata": {},
   "outputs": [],
   "source": [
    "class Prey:\n",
    "    def flee(self):\n",
    "        print(\"This animal flees\")"
   ]
  },
  {
   "cell_type": "code",
   "execution_count": 4,
   "id": "81267cca",
   "metadata": {},
   "outputs": [],
   "source": [
    "class Predator:\n",
    "    def hunt(self):\n",
    "        print(\"This animal is hunting\")"
   ]
  },
  {
   "cell_type": "code",
   "execution_count": 9,
   "id": "1c8069e6",
   "metadata": {},
   "outputs": [],
   "source": [
    "class Rabbit(Prey):\n",
    "    pass"
   ]
  },
  {
   "cell_type": "code",
   "execution_count": 6,
   "id": "5bc63bf1",
   "metadata": {},
   "outputs": [],
   "source": [
    "class Hawk(Predator):\n",
    "    pass"
   ]
  },
  {
   "cell_type": "code",
   "execution_count": 10,
   "id": "9ec09a4d",
   "metadata": {},
   "outputs": [],
   "source": [
    "class Fish(Prey,Predator):  #Multiple Inheritance\n",
    "    pass"
   ]
  },
  {
   "cell_type": "code",
   "execution_count": 11,
   "id": "fed44cdf",
   "metadata": {},
   "outputs": [
    {
     "name": "stdout",
     "output_type": "stream",
     "text": [
      "This animal flees\n",
      "This animal is hunting\n",
      "This animal flees\n",
      "This animal is hunting\n"
     ]
    }
   ],
   "source": [
    "rabbit = Rabbit()\n",
    "hawk = Hawk()\n",
    "fish = Fish()\n",
    "\n",
    "rabbit.flee()\n",
    "hawk.hunt()\n",
    "fish.flee()\n",
    "fish.hunt()"
   ]
  },
  {
   "cell_type": "code",
   "execution_count": null,
   "id": "d36995c3",
   "metadata": {},
   "outputs": [],
   "source": []
  }
 ],
 "metadata": {
  "kernelspec": {
   "display_name": "Python 3 (ipykernel)",
   "language": "python",
   "name": "python3"
  },
  "language_info": {
   "codemirror_mode": {
    "name": "ipython",
    "version": 3
   },
   "file_extension": ".py",
   "mimetype": "text/x-python",
   "name": "python",
   "nbconvert_exporter": "python",
   "pygments_lexer": "ipython3",
   "version": "3.11.7"
  }
 },
 "nbformat": 4,
 "nbformat_minor": 5
}
