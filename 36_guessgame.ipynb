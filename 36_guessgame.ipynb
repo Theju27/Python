{
 "cells": [
  {
   "cell_type": "code",
   "execution_count": 1,
   "id": "6bfc8a99",
   "metadata": {},
   "outputs": [],
   "source": [
    "#Quiz Game"
   ]
  },
  {
   "cell_type": "code",
   "execution_count": 15,
   "id": "98652e03",
   "metadata": {},
   "outputs": [],
   "source": [
    "#---------------------------------------------\n",
    "def new_game():\n",
    "    guesses = []\n",
    "    correct_guesses = 0\n",
    "    question_num = 1\n",
    "    for key in questions:\n",
    "        print(\"--------------------\")\n",
    "        print(key)\n",
    "        for i in options[question_num - 1]:\n",
    "            print(i)\n",
    "        guess = input(\"Enter (A,B,C or D):\")\n",
    "        guess = guess.upper()\n",
    "        guesses.append(guess)\n",
    "        correct_guesses += check_answer(questions.get(key),guess)\n",
    "        question_num += 1\n",
    "        display_score(correct_guesses,guesses)"
   ]
  },
  {
   "cell_type": "code",
   "execution_count": 16,
   "id": "793bfc30",
   "metadata": {},
   "outputs": [],
   "source": [
    "#----------------------------------------------------\n",
    "def check_answer(answer,guess):\n",
    "    if answer == guess:\n",
    "        print(\"CORRECT!!!!\")\n",
    "        return 1\n",
    "    else:\n",
    "        print(\"WRONG!!!\")\n",
    "        return 0"
   ]
  },
  {
   "cell_type": "code",
   "execution_count": 17,
   "id": "b1063293",
   "metadata": {},
   "outputs": [],
   "source": [
    "#------------------------------------------------------\n",
    "def display_score(correct_guesses,guesses):\n",
    "    print(\"-----------------------------------------\")\n",
    "    print(\"RESULTS\")\n",
    "    print(\"-----------------------------------------\")\n",
    "    print(\"Answers:\",end=\" \")\n",
    "    for i in questions:\n",
    "        print(questions.get(i),end = \" \")\n",
    "        print()\n",
    "        print(\"Guesses:\",end = \" \")\n",
    "    for i in guesses:\n",
    "        print(i,end=\" \")\n",
    "    print()\n",
    "    score = int((correct_guesses/len(questions))*100)\n",
    "    print(\"Your score is:\"+str(score)+\"%\")"
   ]
  },
  {
   "cell_type": "code",
   "execution_count": 18,
   "id": "4f08b372",
   "metadata": {},
   "outputs": [],
   "source": [
    "#----------------------------------------------------------\n",
    "def play_again():\n",
    "    response = input(\"Do you want to play again? (yes or no):\")\n",
    "    response = response.upper()\n",
    "    if response == \"YES\":\n",
    "        return True\n",
    "    else:\n",
    "        return False"
   ]
  },
  {
   "cell_type": "code",
   "execution_count": 19,
   "id": "5f34cc5d",
   "metadata": {},
   "outputs": [
    {
     "name": "stdout",
     "output_type": "stream",
     "text": [
      "--------------------\n",
      "Who created python?:\n",
      "A.Guido Van Rossum\n",
      "B.Elon Musk\n",
      "C.Bill Gates\n",
      "D.Tim Cook\n",
      "Enter (A,B,C or D):A\n",
      "CORRECT!!!!\n",
      "-----------------------------------------\n",
      "RESULTS\n",
      "-----------------------------------------\n",
      "Answers: A \n",
      "Guesses: B \n",
      "Guesses: C \n",
      "Guesses: A \n",
      "Guesses: A \n",
      "Your score is:25%\n",
      "--------------------\n",
      "Which year python was created?:\n",
      "A.1989\n",
      "B.1991\n",
      "C.2000\n",
      "D.2016\n",
      "Enter (A,B,C or D):B\n",
      "CORRECT!!!!\n",
      "-----------------------------------------\n",
      "RESULTS\n",
      "-----------------------------------------\n",
      "Answers: A \n",
      "Guesses: B \n",
      "Guesses: C \n",
      "Guesses: A \n",
      "Guesses: A B \n",
      "Your score is:50%\n",
      "--------------------\n",
      "Python is tributed to which comedy group?:\n",
      "A.Lonely Island\n",
      "B.Smosh\n",
      "C.Monty Python\n",
      "D.SNL\n",
      "Enter (A,B,C or D):C\n",
      "CORRECT!!!!\n",
      "-----------------------------------------\n",
      "RESULTS\n",
      "-----------------------------------------\n",
      "Answers: A \n",
      "Guesses: B \n",
      "Guesses: C \n",
      "Guesses: A \n",
      "Guesses: A B C \n",
      "Your score is:75%\n",
      "--------------------\n",
      "Is the Earth round\n",
      "A.True\n",
      "B.False\n",
      "C.Sometimes\n",
      "D.Never\n",
      "Enter (A,B,C or D):A\n",
      "CORRECT!!!!\n",
      "-----------------------------------------\n",
      "RESULTS\n",
      "-----------------------------------------\n",
      "Answers: A \n",
      "Guesses: B \n",
      "Guesses: C \n",
      "Guesses: A \n",
      "Guesses: A B C A \n",
      "Your score is:100%\n",
      "Do you want to play again? (yes or no):NO\n",
      "Bye!!!!!!\n"
     ]
    }
   ],
   "source": [
    "#-----------------------------------------------------------\n",
    "questions = {\n",
    "    \"Who created python?:\":\"A\",\n",
    "    \"Which year python was created?:\":\"B\",\n",
    "    \"Python is tributed to which comedy group?:\":\"C\",\n",
    "    \"Is the Earth round\":\"A\"\n",
    "}\n",
    "options = [[\"A.Guido Van Rossum\",\"B.Elon Musk\",\"C.Bill Gates\",\"D.Tim Cook\"],\n",
    "           [\"A.1989\",\"B.1991\",\"C.2000\",\"D.2016\"],\n",
    "           [\"A.Lonely Island\",\"B.Smosh\",\"C.Monty Python\",\"D.SNL\"],\n",
    "           [\"A.True\",\"B.False\",\"C.Sometimes\",\"D.Never\"]]\n",
    "new_game()\n",
    "while play_again():\n",
    "    new_game()\n",
    "print(\"Bye!!!!!!\")"
   ]
  },
  {
   "cell_type": "code",
   "execution_count": null,
   "id": "e4172a44",
   "metadata": {},
   "outputs": [],
   "source": []
  },
  {
   "cell_type": "code",
   "execution_count": null,
   "id": "92f7ad6f",
   "metadata": {},
   "outputs": [],
   "source": []
  }
 ],
 "metadata": {
  "kernelspec": {
   "display_name": "Python 3 (ipykernel)",
   "language": "python",
   "name": "python3"
  },
  "language_info": {
   "codemirror_mode": {
    "name": "ipython",
    "version": 3
   },
   "file_extension": ".py",
   "mimetype": "text/x-python",
   "name": "python",
   "nbconvert_exporter": "python",
   "pygments_lexer": "ipython3",
   "version": "3.11.7"
  }
 },
 "nbformat": 4,
 "nbformat_minor": 5
}
