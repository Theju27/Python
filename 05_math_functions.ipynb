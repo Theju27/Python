{
 "cells": [
  {
   "cell_type": "code",
   "execution_count": 1,
   "id": "ab88001b",
   "metadata": {},
   "outputs": [],
   "source": [
    "import math\n",
    "pi = 3.14"
   ]
  },
  {
   "cell_type": "code",
   "execution_count": 2,
   "id": "e7823b90",
   "metadata": {},
   "outputs": [
    {
     "name": "stdout",
     "output_type": "stream",
     "text": [
      "3\n"
     ]
    }
   ],
   "source": [
    "print(round(pi))"
   ]
  },
  {
   "cell_type": "code",
   "execution_count": 3,
   "id": "31794dfe",
   "metadata": {},
   "outputs": [
    {
     "name": "stdout",
     "output_type": "stream",
     "text": [
      "4\n"
     ]
    }
   ],
   "source": [
    "print(math.ceil(pi))"
   ]
  },
  {
   "cell_type": "code",
   "execution_count": 4,
   "id": "cd44be06",
   "metadata": {},
   "outputs": [
    {
     "name": "stdout",
     "output_type": "stream",
     "text": [
      "3\n"
     ]
    }
   ],
   "source": [
    "print(math.floor(pi))"
   ]
  },
  {
   "cell_type": "code",
   "execution_count": 6,
   "id": "563279ba",
   "metadata": {},
   "outputs": [
    {
     "name": "stdout",
     "output_type": "stream",
     "text": [
      "3.14\n"
     ]
    }
   ],
   "source": [
    "pi =-3.14\n",
    "print(abs(pi))"
   ]
  },
  {
   "cell_type": "code",
   "execution_count": 8,
   "id": "0a065f9e",
   "metadata": {},
   "outputs": [
    {
     "name": "stdout",
     "output_type": "stream",
     "text": [
      "9.8596\n"
     ]
    }
   ],
   "source": [
    "print(pow(pi,2))"
   ]
  },
  {
   "cell_type": "code",
   "execution_count": null,
   "id": "571d3e0c",
   "metadata": {},
   "outputs": [],
   "source": [
    "print(math.sqrt(420))"
   ]
  }
 ],
 "metadata": {
  "kernelspec": {
   "display_name": "Python 3 (ipykernel)",
   "language": "python",
   "name": "python3"
  },
  "language_info": {
   "codemirror_mode": {
    "name": "ipython",
    "version": 3
   },
   "file_extension": ".py",
   "mimetype": "text/x-python",
   "name": "python",
   "nbconvert_exporter": "python",
   "pygments_lexer": "ipython3",
   "version": "3.11.7"
  }
 },
 "nbformat": 4,
 "nbformat_minor": 5
}
