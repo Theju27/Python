{
 "cells": [
  {
   "cell_type": "code",
   "execution_count": 1,
   "id": "802d9e13",
   "metadata": {},
   "outputs": [],
   "source": [
    "#Scope is the region that a variable is recognized.\n",
    "#A variable is only available from inside the region it is created.\n",
    "#A global and locally scoped versions of a variable can be created."
   ]
  },
  {
   "cell_type": "code",
   "execution_count": 2,
   "id": "46c904fe",
   "metadata": {},
   "outputs": [],
   "source": [
    "name=\"Bro\" #Global Scope(Available inside and Outside the function)(Available throughout the program)"
   ]
  },
  {
   "cell_type": "code",
   "execution_count": 3,
   "id": "d1b4754e",
   "metadata": {},
   "outputs": [],
   "source": [
    "def display_name(): \n",
    "    name=\"Code\" #Local scope(Available only inside this function)\n",
    "    print(name)"
   ]
  },
  {
   "cell_type": "code",
   "execution_count": 4,
   "id": "8ff72bfd",
   "metadata": {},
   "outputs": [
    {
     "name": "stdout",
     "output_type": "stream",
     "text": [
      "Code\n",
      "Bro\n"
     ]
    }
   ],
   "source": [
    "display_name()\n",
    "print(name)"
   ]
  },
  {
   "cell_type": "code",
   "execution_count": 5,
   "id": "40227178",
   "metadata": {},
   "outputs": [],
   "source": [
    "#Python follows the following order of precedence\n",
    "#LEGB\n",
    "#L=Local Variable\n",
    "#E=Enclosing Variable\n",
    "#G=Global Variable\n",
    "#B=Built-in Variable"
   ]
  },
  {
   "cell_type": "code",
   "execution_count": null,
   "id": "bdf9cc2a",
   "metadata": {},
   "outputs": [],
   "source": []
  }
 ],
 "metadata": {
  "kernelspec": {
   "display_name": "Python 3 (ipykernel)",
   "language": "python",
   "name": "python3"
  },
  "language_info": {
   "codemirror_mode": {
    "name": "ipython",
    "version": 3
   },
   "file_extension": ".py",
   "mimetype": "text/x-python",
   "name": "python",
   "nbconvert_exporter": "python",
   "pygments_lexer": "ipython3",
   "version": "3.11.7"
  }
 },
 "nbformat": 4,
 "nbformat_minor": 5
}
