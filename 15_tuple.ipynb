{
 "cells": [
  {
   "cell_type": "code",
   "execution_count": 1,
   "id": "c62a2e86",
   "metadata": {},
   "outputs": [],
   "source": [
    "#Tuple is a collection which is ordered and unchangable\n",
    "#It is used together related data.\n"
   ]
  },
  {
   "cell_type": "code",
   "execution_count": 2,
   "id": "056b575e",
   "metadata": {},
   "outputs": [],
   "source": [
    "student=(\"Bro\",21,\"Male\")"
   ]
  },
  {
   "cell_type": "code",
   "execution_count": 3,
   "id": "e2baeeb9",
   "metadata": {},
   "outputs": [
    {
     "name": "stdout",
     "output_type": "stream",
     "text": [
      "1\n"
     ]
    }
   ],
   "source": [
    "print(student.count(\"Bro\"))"
   ]
  },
  {
   "cell_type": "code",
   "execution_count": 4,
   "id": "8f5d1312",
   "metadata": {},
   "outputs": [
    {
     "name": "stdout",
     "output_type": "stream",
     "text": [
      "2\n"
     ]
    }
   ],
   "source": [
    "print(student.index(\"Male\"))"
   ]
  },
  {
   "cell_type": "code",
   "execution_count": 5,
   "id": "10be4a34",
   "metadata": {},
   "outputs": [
    {
     "name": "stdout",
     "output_type": "stream",
     "text": [
      "Bro\n",
      "21\n",
      "Male\n"
     ]
    }
   ],
   "source": [
    "for x in student:\n",
    "    print(x)"
   ]
  },
  {
   "cell_type": "code",
   "execution_count": 6,
   "id": "ec42dbea",
   "metadata": {},
   "outputs": [
    {
     "name": "stdout",
     "output_type": "stream",
     "text": [
      "Bro is here!\n",
      "0\n"
     ]
    }
   ],
   "source": [
    "if \"Bro\" in student:\n",
    "    print(\"Bro is here!\")\n",
    "    print(student.index(\"Bro\"))"
   ]
  },
  {
   "cell_type": "code",
   "execution_count": 7,
   "id": "f4084df2",
   "metadata": {},
   "outputs": [
    {
     "name": "stdout",
     "output_type": "stream",
     "text": [
      "1\n"
     ]
    }
   ],
   "source": [
    "if 21 in student:\n",
    "    print(student.index(21))"
   ]
  },
  {
   "cell_type": "code",
   "execution_count": null,
   "id": "8f1a833f",
   "metadata": {},
   "outputs": [],
   "source": []
  }
 ],
 "metadata": {
  "kernelspec": {
   "display_name": "Python 3 (ipykernel)",
   "language": "python",
   "name": "python3"
  },
  "language_info": {
   "codemirror_mode": {
    "name": "ipython",
    "version": 3
   },
   "file_extension": ".py",
   "mimetype": "text/x-python",
   "name": "python",
   "nbconvert_exporter": "python",
   "pygments_lexer": "ipython3",
   "version": "3.11.7"
  }
 },
 "nbformat": 4,
 "nbformat_minor": 5
}
