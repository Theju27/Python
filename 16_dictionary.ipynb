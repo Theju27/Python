{
 "cells": [
  {
   "cell_type": "code",
   "execution_count": 1,
   "id": "dc239f8b",
   "metadata": {},
   "outputs": [],
   "source": [
    "#Dictionary is a changable,unordered collection of unique key:value pair\n",
    "#They are fast because they use hashing,allow us to access a value quickly"
   ]
  },
  {
   "cell_type": "code",
   "execution_count": 7,
   "id": "5c40ddd1",
   "metadata": {},
   "outputs": [
    {
     "name": "stdout",
     "output_type": "stream",
     "text": [
      "Moscow\n"
     ]
    }
   ],
   "source": [
    "capitals = {'USA':'Washington DC',\n",
    "         'India':'New Delhi',\n",
    "         'China':'Beijing',\n",
    "         'Russia':'Moscow'}\n",
    "print(capitals['Russia'])"
   ]
  },
  {
   "cell_type": "code",
   "execution_count": 3,
   "id": "70464e21",
   "metadata": {},
   "outputs": [
    {
     "name": "stdout",
     "output_type": "stream",
     "text": [
      "None\n"
     ]
    }
   ],
   "source": [
    "print(capitals.get('Germany'))"
   ]
  },
  {
   "cell_type": "code",
   "execution_count": 4,
   "id": "951bc0aa",
   "metadata": {},
   "outputs": [
    {
     "name": "stdout",
     "output_type": "stream",
     "text": [
      "New Delhi\n"
     ]
    }
   ],
   "source": [
    "print(capitals.get('India'))"
   ]
  },
  {
   "cell_type": "code",
   "execution_count": 5,
   "id": "0cf4316f",
   "metadata": {},
   "outputs": [
    {
     "name": "stdout",
     "output_type": "stream",
     "text": [
      "dict_keys(['USA', 'India', 'China', 'Russia'])\n"
     ]
    }
   ],
   "source": [
    "print(capitals.keys())"
   ]
  },
  {
   "cell_type": "code",
   "execution_count": 8,
   "id": "1c51ec41",
   "metadata": {},
   "outputs": [
    {
     "name": "stdout",
     "output_type": "stream",
     "text": [
      "dict_values(['Washington DC', 'New Delhi', 'Beijing', 'Moscow'])\n"
     ]
    }
   ],
   "source": [
    "print(capitals.values())"
   ]
  },
  {
   "cell_type": "code",
   "execution_count": 9,
   "id": "8f0a6d10",
   "metadata": {},
   "outputs": [
    {
     "name": "stdout",
     "output_type": "stream",
     "text": [
      "dict_items([('USA', 'Washington DC'), ('India', 'New Delhi'), ('China', 'Beijing'), ('Russia', 'Moscow')])\n"
     ]
    }
   ],
   "source": [
    "print(capitals.items())"
   ]
  },
  {
   "cell_type": "code",
   "execution_count": 11,
   "id": "33900086",
   "metadata": {},
   "outputs": [
    {
     "name": "stdout",
     "output_type": "stream",
     "text": [
      "USA Washington DC\n",
      "India New Delhi\n",
      "China Beijing\n",
      "Russia Moscow\n"
     ]
    }
   ],
   "source": [
    "for key,value in capitals.items():\n",
    "    print(key,value)"
   ]
  },
  {
   "cell_type": "code",
   "execution_count": 12,
   "id": "aa115573",
   "metadata": {},
   "outputs": [
    {
     "name": "stdout",
     "output_type": "stream",
     "text": [
      "USA Washington DC\n",
      "India New Delhi\n",
      "Russia Moscow\n"
     ]
    }
   ],
   "source": [
    "capitals.pop(\"China\")\n",
    "for key,value in capitals.items():\n",
    "    print(key,value)"
   ]
  },
  {
   "cell_type": "code",
   "execution_count": 13,
   "id": "68d63df2",
   "metadata": {},
   "outputs": [],
   "source": [
    "capitals.clear()"
   ]
  },
  {
   "cell_type": "code",
   "execution_count": null,
   "id": "aa7d13b5",
   "metadata": {},
   "outputs": [],
   "source": []
  }
 ],
 "metadata": {
  "kernelspec": {
   "display_name": "Python 3 (ipykernel)",
   "language": "python",
   "name": "python3"
  },
  "language_info": {
   "codemirror_mode": {
    "name": "ipython",
    "version": 3
   },
   "file_extension": ".py",
   "mimetype": "text/x-python",
   "name": "python",
   "nbconvert_exporter": "python",
   "pygments_lexer": "ipython3",
   "version": "3.11.7"
  }
 },
 "nbformat": 4,
 "nbformat_minor": 5
}
