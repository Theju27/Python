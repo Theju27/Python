{
 "cells": [
  {
   "cell_type": "code",
   "execution_count": 1,
   "id": "5ac7942c",
   "metadata": {},
   "outputs": [],
   "source": [
    "#Instance variable:\n",
    "                # An instance varible is declared inside of constructor and they can be given unique values."
   ]
  },
  {
   "cell_type": "code",
   "execution_count": 11,
   "id": "754ac00e",
   "metadata": {},
   "outputs": [
    {
     "name": "stdout",
     "output_type": "stream",
     "text": [
      "importing Jupyter notebook from a_classvariable_38.ipynb\n",
      "2\n",
      "2\n"
     ]
    }
   ],
   "source": [
    "import import_ipynb\n",
    "from a_classvariable_38 import Car\n",
    "car_1 = Car(\"Chevy\",\"Corvette\",2021,\"blue\")\n",
    "car_2 = Car(\"Ford\",\"Mustang\",2022,\"Red\")\n",
    "Car.wheels = 2         \n",
    "print(car_1.wheels)\n",
    "print(car_2.wheels)"
   ]
  },
  {
   "cell_type": "code",
   "execution_count": null,
   "id": "3deb8d6f",
   "metadata": {},
   "outputs": [],
   "source": []
  },
  {
   "cell_type": "code",
   "execution_count": null,
   "id": "e47c97ba",
   "metadata": {},
   "outputs": [],
   "source": []
  }
 ],
 "metadata": {
  "kernelspec": {
   "display_name": "Python 3 (ipykernel)",
   "language": "python",
   "name": "python3"
  },
  "language_info": {
   "codemirror_mode": {
    "name": "ipython",
    "version": 3
   },
   "file_extension": ".py",
   "mimetype": "text/x-python",
   "name": "python",
   "nbconvert_exporter": "python",
   "pygments_lexer": "ipython3",
   "version": "3.11.7"
  }
 },
 "nbformat": 4,
 "nbformat_minor": 5
}
