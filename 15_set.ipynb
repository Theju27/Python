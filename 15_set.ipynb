{
 "cells": [
  {
   "cell_type": "code",
   "execution_count": 1,
   "id": "1e686296",
   "metadata": {},
   "outputs": [],
   "source": [
    "#Set is a collection which is unordered,unindexed\n",
    "#It doesnot allow any duplicate value"
   ]
  },
  {
   "cell_type": "code",
   "execution_count": 2,
   "id": "671b2425",
   "metadata": {},
   "outputs": [],
   "source": [
    "utensils = {\"fork\",\"spoon\",\"knife\"}\n",
    "dishes={\"bowl\",\"plate\",\"cup\",\"knife\"}"
   ]
  },
  {
   "cell_type": "code",
   "execution_count": 9,
   "id": "43b063e2",
   "metadata": {},
   "outputs": [
    {
     "name": "stdout",
     "output_type": "stream",
     "text": [
      "spoon\n",
      "napkin\n",
      "fork\n",
      "knife\n"
     ]
    }
   ],
   "source": [
    "utensils.add(\"napkin\")\n",
    "for i in utensils:\n",
    "    print(i)"
   ]
  },
  {
   "cell_type": "code",
   "execution_count": 10,
   "id": "5dd64069",
   "metadata": {},
   "outputs": [
    {
     "name": "stdout",
     "output_type": "stream",
     "text": [
      "spoon\n",
      "napkin\n",
      "knife\n"
     ]
    }
   ],
   "source": [
    "utensils.remove(\"fork\")\n",
    "for i in utensils:\n",
    "    print(i)"
   ]
  },
  {
   "cell_type": "code",
   "execution_count": 25,
   "id": "4a1e5508",
   "metadata": {},
   "outputs": [],
   "source": [
    "utensils.clear()"
   ]
  },
  {
   "cell_type": "code",
   "execution_count": 27,
   "id": "a2819acc",
   "metadata": {},
   "outputs": [],
   "source": []
  },
  {
   "cell_type": "code",
   "execution_count": 28,
   "id": "a72e3fd2",
   "metadata": {},
   "outputs": [
    {
     "name": "stdout",
     "output_type": "stream",
     "text": [
      "bowl\n",
      "cup\n",
      "plate\n"
     ]
    }
   ],
   "source": [
    "dishes.update(utensils)\n",
    "for i in dishes:\n",
    "    print(i)"
   ]
  },
  {
   "cell_type": "code",
   "execution_count": 31,
   "id": "e6a930a0",
   "metadata": {},
   "outputs": [
    {
     "name": "stdout",
     "output_type": "stream",
     "text": [
      "bowl\n",
      "cup\n",
      "plate\n",
      "knife\n",
      "spoon\n",
      "napkin\n",
      "fork\n",
      "knife\n"
     ]
    }
   ],
   "source": [
    "dishes.add(\"knife\")\n",
    "utensils.add(\"knife\")\n",
    "utensils.add(\"spoon\")\n",
    "utensils.add(\"napkin\")\n",
    "utensils.add(\"fork\")\n",
    "for i in dishes:\n",
    "    print(i)\n",
    "for j in utensils:\n",
    "    print(j)"
   ]
  },
  {
   "cell_type": "code",
   "execution_count": 32,
   "id": "be407004",
   "metadata": {},
   "outputs": [
    {
     "name": "stdout",
     "output_type": "stream",
     "text": [
      "fork\n",
      "spoon\n",
      "napkin\n",
      "bowl\n",
      "cup\n",
      "plate\n",
      "knife\n"
     ]
    }
   ],
   "source": [
    "dinner_table=utensils.union(dishes)\n",
    "for i in dinner_table:\n",
    "    print(i)"
   ]
  },
  {
   "cell_type": "code",
   "execution_count": 33,
   "id": "889aef0f",
   "metadata": {},
   "outputs": [
    {
     "name": "stdout",
     "output_type": "stream",
     "text": [
      "{'spoon', 'napkin', 'fork'}\n"
     ]
    }
   ],
   "source": [
    "print(utensils.difference(dishes))"
   ]
  },
  {
   "cell_type": "code",
   "execution_count": 34,
   "id": "dde43e09",
   "metadata": {},
   "outputs": [
    {
     "name": "stdout",
     "output_type": "stream",
     "text": [
      "{'knife'}\n"
     ]
    }
   ],
   "source": [
    "print(utensils.intersection(dishes))"
   ]
  },
  {
   "cell_type": "code",
   "execution_count": null,
   "id": "c3c8141b",
   "metadata": {},
   "outputs": [],
   "source": []
  }
 ],
 "metadata": {
  "kernelspec": {
   "display_name": "Python 3 (ipykernel)",
   "language": "python",
   "name": "python3"
  },
  "language_info": {
   "codemirror_mode": {
    "name": "ipython",
    "version": 3
   },
   "file_extension": ".py",
   "mimetype": "text/x-python",
   "name": "python",
   "nbconvert_exporter": "python",
   "pygments_lexer": "ipython3",
   "version": "3.11.7"
  }
 },
 "nbformat": 4,
 "nbformat_minor": 5
}
