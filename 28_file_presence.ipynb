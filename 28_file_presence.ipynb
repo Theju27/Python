{
 "cells": [
  {
   "cell_type": "code",
   "execution_count": 1,
   "id": "d24008a4",
   "metadata": {},
   "outputs": [],
   "source": [
    "#To check whether a file is present or not in a particular location"
   ]
  },
  {
   "cell_type": "code",
   "execution_count": 11,
   "id": "93041857",
   "metadata": {},
   "outputs": [
    {
     "name": "stdout",
     "output_type": "stream",
     "text": [
      "Enter the file path:C:\\Users\\Theju\\Desktop\\resources\\python\\Untitled Folder\\Untitled Folder\n",
      "File path you entered is:C:\\Users\\Theju\\Desktop\\resources\\python\\Untitled Folder\\Untitled Folder\n",
      "That file exists\n"
     ]
    }
   ],
   "source": [
    "import os\n",
    "\n",
    "# Define the path to the file\n",
    "#path = r'C:\\Users\\Theju\\Desktop\\resources\\python\\Untitled Folder\\Untitled Folder\\test.txt'\n",
    "path = input(\"Enter the file path:\")\n",
    "print(\"File path you entered is:\"+path)\n",
    "# Check if the file exists at the specified path\n",
    "if os.path.exists(path):\n",
    "    print(\"That file exists\")\n",
    "else:\n",
    "    print(\"That file doesn't exist\")\n"
   ]
  },
  {
   "cell_type": "code",
   "execution_count": null,
   "id": "f3083683",
   "metadata": {},
   "outputs": [],
   "source": []
  },
  {
   "cell_type": "code",
   "execution_count": null,
   "id": "1226eb68",
   "metadata": {},
   "outputs": [],
   "source": []
  }
 ],
 "metadata": {
  "kernelspec": {
   "display_name": "Python 3 (ipykernel)",
   "language": "python",
   "name": "python3"
  },
  "language_info": {
   "codemirror_mode": {
    "name": "ipython",
    "version": 3
   },
   "file_extension": ".py",
   "mimetype": "text/x-python",
   "name": "python",
   "nbconvert_exporter": "python",
   "pygments_lexer": "ipython3",
   "version": "3.11.7"
  }
 },
 "nbformat": 4,
 "nbformat_minor": 5
}
