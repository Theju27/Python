{
 "cells": [
  {
   "cell_type": "code",
   "execution_count": 4,
   "id": "c35543af",
   "metadata": {},
   "outputs": [
    {
     "name": "stdout",
     "output_type": "stream",
     "text": [
      "How old are you?:-1\n",
      "You haven't born yet!\n"
     ]
    }
   ],
   "source": [
    "age = int(input(\"How old are you?:\"))\n",
    "if age == 100:\n",
    "    print(\"You are a centurian\")\n",
    "elif age >= 18:\n",
    "    print(\"You are an adult\")\n",
    "elif age < 0:\n",
    "    print(\"You haven't born yet!\")\n",
    "else:\n",
    "    print(\"You are a Kid!\")"
   ]
  },
  {
   "cell_type": "code",
   "execution_count": null,
   "id": "87a08096",
   "metadata": {},
   "outputs": [],
   "source": []
  },
  {
   "cell_type": "code",
   "execution_count": null,
   "id": "9667e99a",
   "metadata": {},
   "outputs": [],
   "source": []
  },
  {
   "cell_type": "code",
   "execution_count": null,
   "id": "c6e25a56",
   "metadata": {},
   "outputs": [],
   "source": []
  }
 ],
 "metadata": {
  "kernelspec": {
   "display_name": "Python 3 (ipykernel)",
   "language": "python",
   "name": "python3"
  },
  "language_info": {
   "codemirror_mode": {
    "name": "ipython",
    "version": 3
   },
   "file_extension": ".py",
   "mimetype": "text/x-python",
   "name": "python",
   "nbconvert_exporter": "python",
   "pygments_lexer": "ipython3",
   "version": "3.11.7"
  }
 },
 "nbformat": 4,
 "nbformat_minor": 5
}
