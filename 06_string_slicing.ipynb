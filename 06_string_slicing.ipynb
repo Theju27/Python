{
 "cells": [
  {
   "cell_type": "code",
   "execution_count": 1,
   "id": "dddc7088",
   "metadata": {},
   "outputs": [],
   "source": [
    "name = \"Bro Code\""
   ]
  },
  {
   "cell_type": "code",
   "execution_count": 3,
   "id": "e9fcb2d1",
   "metadata": {},
   "outputs": [
    {
     "name": "stdout",
     "output_type": "stream",
     "text": [
      "B\n"
     ]
    }
   ],
   "source": [
    "first_name = name[0]\n",
    "print(first_name)"
   ]
  },
  {
   "cell_type": "code",
   "execution_count": 5,
   "id": "930a5a92",
   "metadata": {},
   "outputs": [
    {
     "name": "stdout",
     "output_type": "stream",
     "text": [
      "Bro\n"
     ]
    }
   ],
   "source": [
    "first_name=name[0:3]\n",
    "print(first_name)"
   ]
  },
  {
   "cell_type": "code",
   "execution_count": 6,
   "id": "5abaa4e1",
   "metadata": {},
   "outputs": [
    {
     "name": "stdout",
     "output_type": "stream",
     "text": [
      "Bro\n"
     ]
    }
   ],
   "source": [
    "first_name=name[:3]\n",
    "print(first_name)"
   ]
  },
  {
   "cell_type": "code",
   "execution_count": 7,
   "id": "f81e65fb",
   "metadata": {},
   "outputs": [
    {
     "name": "stdout",
     "output_type": "stream",
     "text": [
      "Code\n"
     ]
    }
   ],
   "source": [
    "last_name=name[4:8]\n",
    "print(last_name)"
   ]
  },
  {
   "cell_type": "code",
   "execution_count": 9,
   "id": "c6733f52",
   "metadata": {},
   "outputs": [
    {
     "name": "stdout",
     "output_type": "stream",
     "text": [
      "Code\n"
     ]
    }
   ],
   "source": [
    "last_name=name[4:]\n",
    "print(last_name)"
   ]
  },
  {
   "cell_type": "code",
   "execution_count": 10,
   "id": "c40a61f8",
   "metadata": {},
   "outputs": [
    {
     "name": "stdout",
     "output_type": "stream",
     "text": [
      "B d\n"
     ]
    }
   ],
   "source": [
    "Funky_name=name[0:8:3]\n",
    "print(Funky_name)"
   ]
  },
  {
   "cell_type": "code",
   "execution_count": 12,
   "id": "ac145b5e",
   "metadata": {},
   "outputs": [
    {
     "name": "stdout",
     "output_type": "stream",
     "text": [
      "BoCd\n"
     ]
    }
   ],
   "source": [
    "Funky_name=name[0:8:2]\n",
    "print(Funky_name)"
   ]
  },
  {
   "cell_type": "code",
   "execution_count": 13,
   "id": "169aab13",
   "metadata": {},
   "outputs": [
    {
     "name": "stdout",
     "output_type": "stream",
     "text": [
      "BoCd\n"
     ]
    }
   ],
   "source": [
    "Funky_name=name[::2]\n",
    "print(Funky_name)"
   ]
  },
  {
   "cell_type": "code",
   "execution_count": 15,
   "id": "b36ee728",
   "metadata": {},
   "outputs": [
    {
     "name": "stdout",
     "output_type": "stream",
     "text": [
      "edoC orB\n"
     ]
    }
   ],
   "source": [
    "reserved_name=name[::-1]\n",
    "print(reserved_name)"
   ]
  },
  {
   "cell_type": "code",
   "execution_count": 18,
   "id": "35f17ab5",
   "metadata": {},
   "outputs": [],
   "source": [
    "#Using slice method from here\n",
    "website1=\"http://google.com\"\n",
    "slice=slice(7,-4)"
   ]
  },
  {
   "cell_type": "code",
   "execution_count": 20,
   "id": "677bb1d0",
   "metadata": {},
   "outputs": [
    {
     "name": "stdout",
     "output_type": "stream",
     "text": [
      "google\n"
     ]
    }
   ],
   "source": [
    "print(website1[slice])"
   ]
  },
  {
   "cell_type": "code",
   "execution_count": 21,
   "id": "07cff492",
   "metadata": {},
   "outputs": [],
   "source": [
    "website2=\"http://wikipedia.com\""
   ]
  },
  {
   "cell_type": "code",
   "execution_count": 24,
   "id": "dd0f2c2f",
   "metadata": {},
   "outputs": [
    {
     "name": "stdout",
     "output_type": "stream",
     "text": [
      "wikipedia\n"
     ]
    }
   ],
   "source": [
    "print(website2[slice])"
   ]
  },
  {
   "cell_type": "code",
   "execution_count": null,
   "id": "d9c2d480",
   "metadata": {},
   "outputs": [],
   "source": []
  }
 ],
 "metadata": {
  "kernelspec": {
   "display_name": "Python 3 (ipykernel)",
   "language": "python",
   "name": "python3"
  },
  "language_info": {
   "codemirror_mode": {
    "name": "ipython",
    "version": 3
   },
   "file_extension": ".py",
   "mimetype": "text/x-python",
   "name": "python",
   "nbconvert_exporter": "python",
   "pygments_lexer": "ipython3",
   "version": "3.11.7"
  }
 },
 "nbformat": 4,
 "nbformat_minor": 5
}
