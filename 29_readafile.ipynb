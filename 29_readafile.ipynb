{
 "cells": [
  {
   "cell_type": "code",
   "execution_count": 8,
   "id": "baebf43b",
   "metadata": {},
   "outputs": [
    {
     "name": "stdout",
     "output_type": "stream",
     "text": [
      "Hi hello i am goodbye bye bye bye\n",
      "\n",
      "bye bye\n",
      "True\n"
     ]
    }
   ],
   "source": [
    "with open(\"C:\\\\Users\\\\Theju\\\\Desktop\\\\resources\\\\python\\\\Untitled Folder\\\\Untitled Folder\\\\test.docx\") as file:\n",
    "    print(file.read())\n",
    "print(file.closed)"
   ]
  },
  {
   "cell_type": "code",
   "execution_count": 9,
   "id": "b123c6f9",
   "metadata": {},
   "outputs": [
    {
     "name": "stdout",
     "output_type": "stream",
     "text": [
      "Hi hello i am goodbye bye bye bye\n",
      "\n",
      "bye bye\n"
     ]
    }
   ],
   "source": [
    "#To fix any exceptions:\n",
    "try:\n",
    "    with open(\"C:\\\\Users\\\\Theju\\\\Desktop\\\\resources\\\\python\\\\Untitled Folder\\\\Untitled Folder\\\\test.docx\") as file:\n",
    "        print(file.read())\n",
    "except FileNotFoundError:\n",
    "    print(\"File not found!!! :) \")"
   ]
  },
  {
   "cell_type": "code",
   "execution_count": 10,
   "id": "f5b156b6",
   "metadata": {},
   "outputs": [
    {
     "name": "stdout",
     "output_type": "stream",
     "text": [
      "Hi hello i am goodbye bye bye bye\n",
      "\n",
      "bye bye\n"
     ]
    }
   ],
   "source": [
    "with open(\"C:\\\\Users\\\\Theju\\\\Desktop\\\\resources\\\\python\\\\Untitled Folder\\\\Untitled Folder\\\\test1.docx\") as file:\n",
    "    print(file.read())"
   ]
  },
  {
   "cell_type": "code",
   "execution_count": 11,
   "id": "c94fa27d",
   "metadata": {},
   "outputs": [
    {
     "name": "stdout",
     "output_type": "stream",
     "text": [
      "Hi hello i am goodbye bye bye bye\n",
      "\n",
      "bye bye\n"
     ]
    }
   ],
   "source": [
    "with open(\"C:\\\\Users\\\\Theju\\\\Desktop\\\\resources\\\\python\\\\Untitled Folder\\\\Untitled Folder\\\\test2.docx\") as file:\n",
    "    print(file.read())"
   ]
  },
  {
   "cell_type": "code",
   "execution_count": 12,
   "id": "69bca6b2",
   "metadata": {},
   "outputs": [
    {
     "name": "stdout",
     "output_type": "stream",
     "text": [
      "Hi hello i am goodbye bye bye bye\n",
      "\n",
      "bye bye\n"
     ]
    }
   ],
   "source": [
    "with open(\"C:\\\\Users\\\\Theju\\\\Desktop\\\\resources\\\\python\\\\Untitled Folder\\\\Untitled Folder\\\\test3.docx\") as file:\n",
    "    print(file.read())"
   ]
  },
  {
   "cell_type": "code",
   "execution_count": null,
   "id": "fc76abb6",
   "metadata": {},
   "outputs": [],
   "source": []
  }
 ],
 "metadata": {
  "kernelspec": {
   "display_name": "Python 3 (ipykernel)",
   "language": "python",
   "name": "python3"
  },
  "language_info": {
   "codemirror_mode": {
    "name": "ipython",
    "version": 3
   },
   "file_extension": ".py",
   "mimetype": "text/x-python",
   "name": "python",
   "nbconvert_exporter": "python",
   "pygments_lexer": "ipython3",
   "version": "3.11.7"
  }
 },
 "nbformat": 4,
 "nbformat_minor": 5
}
